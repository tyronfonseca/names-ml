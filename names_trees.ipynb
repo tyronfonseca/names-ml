{
 "cells": [
  {
   "cell_type": "markdown",
   "metadata": {},
   "source": [
    "# Sex by name using decision trees and random forest\n"
   ]
  },
  {
   "cell_type": "code",
   "execution_count": 1,
   "metadata": {},
   "outputs": [],
   "source": [
    "# Import libraries\n",
    "import numpy as np\n",
    "import pandas as pd\n",
    "from sklearn.tree import DecisionTreeClassifier\n",
    "from sklearn.model_selection import train_test_split\n",
    "from sklearn.ensemble import RandomForestClassifier\n",
    "from sklearn.metrics import accuracy_score"
   ]
  },
  {
   "cell_type": "code",
   "execution_count": 2,
   "metadata": {},
   "outputs": [],
   "source": [
    "# Constants\n",
    "max_length_name = 20\n",
    "\n",
    "# function to convert a string to a list of ascii values\n",
    "def transform_string(string):\n",
    "   string = string.lower()\n",
    "   ascii_list = [ord(c) for c in string]\n",
    "   list_ = ascii_list + [0] * (max_length_name - len(ascii_list))\n",
    "   return np.array(list_).astype(np.float32)"
   ]
  },
  {
   "cell_type": "code",
   "execution_count": 3,
   "metadata": {},
   "outputs": [
    {
     "name": "stdout",
     "output_type": "stream",
     "text": [
      "      name  sex\n",
      "0    aaden    1\n",
      "1  aaliyah    0\n",
      "2    aamir    1\n",
      "3    aarav    1\n",
      "4    aaron    0\n",
      "<class 'pandas.core.frame.DataFrame'>\n",
      "RangeIndex: 11741 entries, 0 to 11740\n",
      "Data columns (total 2 columns):\n",
      " #   Column  Non-Null Count  Dtype \n",
      "---  ------  --------------  ----- \n",
      " 0   name    11740 non-null  object\n",
      " 1   sex     11741 non-null  int64 \n",
      "dtypes: int64(1), object(1)\n",
      "memory usage: 183.6+ KB\n",
      "None\n"
     ]
    }
   ],
   "source": [
    "#load data\n",
    "names = pd.read_csv('unificado-clean.csv')\n",
    "\n",
    "#explore data\n",
    "print(names.head())\n",
    "print(names.info())"
   ]
  },
  {
   "cell_type": "code",
   "execution_count": 4,
   "metadata": {},
   "outputs": [],
   "source": [
    "# create X and y\n",
    "X = np.asarray(names['name'].values.tolist())\n",
    "y = np.asarray(names['sex'].values.tolist())\n",
    "\n",
    "X = np.array([transform_string(val) for val in X])"
   ]
  },
  {
   "cell_type": "code",
   "execution_count": 5,
   "metadata": {},
   "outputs": [],
   "source": [
    "def predict(name, model_loaded):\n",
    "    data = np.array([transform_string(val) for val in name])\n",
    "    result = model_loaded.predict(data)\n",
    "    return ['m' if logit > 0.5 else 'f' for logit in result]"
   ]
  },
  {
   "cell_type": "code",
   "execution_count": 6,
   "metadata": {},
   "outputs": [],
   "source": [
    "import matplotlib.pyplot as plt\n",
    "import numpy\n",
    "from sklearn import metrics\n",
    "\n",
    "def show_confusion_matrix(model, X, y):\n",
    "    prediction = model.predict(X)\n",
    "    confusion_matrix = metrics.confusion_matrix(y, prediction)\n",
    "\n",
    "    cm_display = metrics.ConfusionMatrixDisplay(confusion_matrix = confusion_matrix, display_labels = ['M', 'F'])\n",
    "\n",
    "    cm_display.plot()\n",
    "    plt.show()"
   ]
  },
  {
   "cell_type": "markdown",
   "metadata": {},
   "source": [
    "### Decision Trees"
   ]
  },
  {
   "cell_type": "code",
   "execution_count": 7,
   "metadata": {},
   "outputs": [],
   "source": [
    "tree_model = DecisionTreeClassifier(max_depth=15)\n",
    "history = tree_model.fit(X, y)"
   ]
  },
  {
   "cell_type": "code",
   "execution_count": 8,
   "metadata": {},
   "outputs": [
    {
     "name": "stdout",
     "output_type": "stream",
     "text": [
      "Accuracy of Decision Tree Model:  0.8754790903670897\n"
     ]
    }
   ],
   "source": [
    "tree_model_pred = tree_model.predict(X)\n",
    "print('Accuracy of Decision Tree Model: ', accuracy_score(y, tree_model_pred))"
   ]
  },
  {
   "cell_type": "code",
   "execution_count": 9,
   "metadata": {},
   "outputs": [
    {
     "data": {
      "image/png": "[encoded data removed]",
      "text/plain": [
       "<Figure size 432x288 with 2 Axes>"
      ]
     },
     "metadata": {
      "needs_background": "light"
     },
     "output_type": "display_data"
    }
   ],
   "source": [
    "show_confusion_matrix(tree_model, X, y)"
   ]
  },
  {
   "cell_type": "markdown",
   "metadata": {},
   "source": [
    "### Random Forest"
   ]
  },
  {
   "cell_type": "code",
   "execution_count": 10,
   "metadata": {},
   "outputs": [],
   "source": [
    "random_model = RandomForestClassifier(n_estimators=1000, max_features=20, max_depth=15)\n",
    "history = random_model.fit(X, y)"
   ]
  },
  {
   "cell_type": "code",
   "execution_count": 11,
   "metadata": {},
   "outputs": [
    {
     "name": "stdout",
     "output_type": "stream",
     "text": [
      "Accuracy of Random Forest Model:  0.9016267779575845\n"
     ]
    }
   ],
   "source": [
    "random_model_pred = random_model.predict(X)\n",
    "print('Accuracy of Random Forest Model: ', accuracy_score(y, random_model_pred))"
   ]
  },
  {
   "cell_type": "code",
   "execution_count": 12,
   "metadata": {},
   "outputs": [
    {
     "data": {
      "image/png": "[encoded data removed]",
      "text/plain": [
       "<Figure size 432x288 with 2 Axes>"
      ]
     },
     "metadata": {
      "needs_background": "light"
     },
     "output_type": "display_data"
    }
   ],
   "source": [
    "show_confusion_matrix(random_model, X, y)"
   ]
  },
  {
   "cell_type": "code",
   "execution_count": 13,
   "metadata": {},
   "outputs": [
    {
     "name": "stdout",
     "output_type": "stream",
     "text": [
      "Predictions for Decision Tree Model:  ['m', 'm', 'm', 'f', 'f', 'm']\n",
      "Predictions for Random Forest Model:  ['m', 'm', 'm', 'f', 'f', 'm']\n"
     ]
    }
   ],
   "source": [
    "test_data = ['Roberto', 'Stephen', 'Allan', 'Maria', 'Carla', 'Gilberto']\n",
    "predictions_trees = predict(test_data, tree_model)\n",
    "predictions_random = predict(test_data, random_model)\n",
    "print('Predictions for Decision Tree Model: ', predictions_trees)\n",
    "print('Predictions for Random Forest Model: ', predictions_random)"
   ]
  },
  {
   "cell_type": "markdown",
   "metadata": {},
   "source": [
    "## Optimización de hiperparámetros"
   ]
  },
  {
   "cell_type": "code",
   "execution_count": 14,
   "metadata": {},
   "outputs": [],
   "source": [
    "from numpy import mean\n",
    "from numpy import std\n",
    "from sklearn.model_selection import KFold\n",
    "from sklearn.model_selection import GridSearchCV\n",
    "from sklearn.ensemble import RandomForestClassifier\n",
    "from sklearn.metrics import accuracy_score"
   ]
  },
  {
   "cell_type": "markdown",
   "metadata": {},
   "source": [
    "### Árboles de decisión"
   ]
  },
  {
   "cell_type": "code",
   "execution_count": 15,
   "metadata": {},
   "outputs": [
    {
     "name": "stdout",
     "output_type": "stream",
     "text": [
      ">acc=0.721, est=0.725, cfg={'max_depth': 10, 'max_features': 20}\n",
      ">acc=0.773, est=0.734, cfg={'max_depth': 10, 'max_features': 20}\n",
      ">acc=0.756, est=0.721, cfg={'max_depth': 10, 'max_features': 20}\n",
      ">acc=0.736, est=0.724, cfg={'max_depth': 10, 'max_features': 20}\n",
      ">acc=0.737, est=0.720, cfg={'max_depth': 10, 'max_features': 20}\n",
      ">acc=0.747, est=0.735, cfg={'max_depth': 10, 'max_features': 20}\n",
      ">acc=0.746, est=0.723, cfg={'max_depth': 10, 'max_features': 20}\n",
      ">acc=0.741, est=0.725, cfg={'max_depth': 10, 'max_features': 20}\n",
      ">acc=0.739, est=0.728, cfg={'max_depth': 10, 'max_features': 20}\n",
      ">acc=0.756, est=0.730, cfg={'max_depth': 10, 'max_features': 20}\n",
      "Accuracy: 0.745 (0.013)\n"
     ]
    }
   ],
   "source": [
    "# configure the cross-validation procedure\n",
    "cv_outer = KFold(n_splits=10, shuffle=True, random_state=1)\n",
    "# enumerate splits\n",
    "outer_results = list()\n",
    "for train_ix, test_ix in cv_outer.split(X):\n",
    "\t# split data\n",
    "\tX_train, X_test = X[train_ix, :], X[test_ix, :]\n",
    "\ty_train, y_test = y[train_ix], y[test_ix]\n",
    "\t# configure the cross-validation procedure\n",
    "\tcv_inner = KFold(n_splits=3, shuffle=True, random_state=1)\n",
    "\t# define the model\n",
    "\ttree_model_op = DecisionTreeClassifier()\n",
    "\t# define search space\n",
    "\tspace = dict()\n",
    "\tspace['max_depth'] = [1, 5, 10, 15, 20, 50]\n",
    "\tspace['max_features'] = [2, 4, 6, 8 ,10, 20]\n",
    "\t# define search\n",
    "\tsearch = GridSearchCV(tree_model_op, space, scoring='accuracy', cv=cv_inner, refit=True)\n",
    "\t# execute search\n",
    "\tresult = search.fit(X_train, y_train)\n",
    "\t# get the best performing model fit on the whole training set\n",
    "\tbest_model = result.best_estimator_\n",
    "\t# evaluate model on the hold out dataset\n",
    "\tyhat = best_model.predict(X_test)\n",
    "\t# evaluate the model\n",
    "\tacc = accuracy_score(y_test, yhat)\n",
    "\t# store the result\n",
    "\touter_results.append(acc)\n",
    "\t# report progress\n",
    "\tprint('>acc=%.3f, est=%.3f, cfg=%s' % (acc, result.best_score_, result.best_params_))\n",
    "# summarize the estimated performance of the model\n",
    "print('Accuracy: %.3f (%.3f)' % (mean(outer_results), std(outer_results)))"
   ]
  },
  {
   "cell_type": "code",
   "execution_count": 16,
   "metadata": {},
   "outputs": [
    {
     "name": "stdout",
     "output_type": "stream",
     "text": [
      "Accuracy of Decision Tree Model Optimized:  0.8035942423984328\n"
     ]
    }
   ],
   "source": [
    "tree_model_op = DecisionTreeClassifier(max_depth=10, max_features=20)\n",
    "tree_model_op.fit(X, y)\n",
    "tree_model_pred = tree_model_op.predict(X)\n",
    "print('Accuracy of Decision Tree Model Optimized: ', accuracy_score(y, tree_model_pred))"
   ]
  },
  {
   "cell_type": "code",
   "execution_count": 17,
   "metadata": {},
   "outputs": [
    {
     "data": {
      "image/png": "[encoded data removed]",
      "text/plain": [
       "<Figure size 432x288 with 2 Axes>"
      ]
     },
     "metadata": {
      "needs_background": "light"
     },
     "output_type": "display_data"
    }
   ],
   "source": [
    "show_confusion_matrix(tree_model_op, X, y)"
   ]
  },
  {
   "cell_type": "markdown",
   "metadata": {},
   "source": [
    "### Bosques aleatorios"
   ]
  },
  {
   "cell_type": "code",
   "execution_count": 18,
   "metadata": {},
   "outputs": [
    {
     "name": "stdout",
     "output_type": "stream",
     "text": [
      ">acc=0.753, est=0.758, cfg={'max_depth': 10, 'max_features': 20, 'n_estimators': 250}\n",
      ">acc=0.790, est=0.755, cfg={'max_depth': 10, 'max_features': 20, 'n_estimators': 250}\n",
      ">acc=0.767, est=0.755, cfg={'max_depth': 10, 'max_features': 20, 'n_estimators': 150}\n",
      ">acc=0.742, est=0.762, cfg={'max_depth': 10, 'max_features': 20, 'n_estimators': 250}\n",
      ">acc=0.759, est=0.756, cfg={'max_depth': 10, 'max_features': 20, 'n_estimators': 250}\n",
      ">acc=0.764, est=0.756, cfg={'max_depth': 10, 'max_features': 20, 'n_estimators': 250}\n",
      ">acc=0.764, est=0.754, cfg={'max_depth': 10, 'max_features': 20, 'n_estimators': 150}\n",
      ">acc=0.774, est=0.753, cfg={'max_depth': 10, 'max_features': 20, 'n_estimators': 150}\n",
      ">acc=0.747, est=0.759, cfg={'max_depth': 10, 'max_features': 20, 'n_estimators': 250}\n",
      ">acc=0.782, est=0.757, cfg={'max_depth': 10, 'max_features': 20, 'n_estimators': 150}\n",
      "Accuracy: 0.764 (0.014)\n"
     ]
    }
   ],
   "source": [
    "# configure the cross-validation procedure\n",
    "cv_outer = KFold(n_splits=10, shuffle=True, random_state=1)\n",
    "# enumerate splits\n",
    "outer_results = list()\n",
    "for train_ix, test_ix in cv_outer.split(X):\n",
    "\t# split data\n",
    "\tX_train, X_test = X[train_ix, :], X[test_ix, :]\n",
    "\ty_train, y_test = y[train_ix], y[test_ix]\n",
    "\t# configure the cross-validation procedure\n",
    "\tcv_inner = KFold(n_splits=3, shuffle=True, random_state=1)\n",
    "\t# define the model\n",
    "\trandom_model_op = RandomForestClassifier(random_state=1)\n",
    "\t# define search space\n",
    "\tspace = dict()\n",
    "\tspace['max_depth'] = [1, 10, 15, 20]\n",
    "\tspace['n_estimators'] = [10, 50, 150, 250]\n",
    "\tspace['max_features'] = [2, 4, 6, 10, 20]\n",
    "\t# define search\n",
    "\tsearch = GridSearchCV(random_model_op, space, scoring='accuracy', cv=cv_inner, refit=True)\n",
    "\t# execute search\n",
    "\tresult = search.fit(X_train, y_train)\n",
    "\t# get the best performing model fit on the whole training set\n",
    "\tbest_model = result.best_estimator_\n",
    "\t# evaluate model on the hold out dataset\n",
    "\tyhat = best_model.predict(X_test)\n",
    "\t# evaluate the model\n",
    "\tacc = accuracy_score(y_test, yhat)\n",
    "\t# store the result\n",
    "\touter_results.append(acc)\n",
    "\t# report progress\n",
    "\tprint('>acc=%.3f, est=%.3f, cfg=%s' % (acc, result.best_score_, result.best_params_))\n",
    "# summarize the estimated performance of the model\n",
    "print('Accuracy: %.3f (%.3f)' % (mean(outer_results), std(outer_results)))"
   ]
  },
  {
   "cell_type": "code",
   "execution_count": 19,
   "metadata": {},
   "outputs": [
    {
     "name": "stdout",
     "output_type": "stream",
     "text": [
      "Accuracy of Random Forest Model Optimized:  0.8234392300485478\n"
     ]
    }
   ],
   "source": [
    "random_model_op = RandomForestClassifier(n_estimators=100, max_features=10, max_depth=10)\n",
    "random_model_op.fit(X, y)\n",
    "random_model_pred = random_model_op.predict(X)\n",
    "print('Accuracy of Random Forest Model Optimized: ', accuracy_score(y, random_model_pred))"
   ]
  },
  {
   "cell_type": "code",
   "execution_count": 20,
   "metadata": {},
   "outputs": [
    {
     "data": {
      "image/png": "[encoded data removed]",
      "text/plain": [
       "<Figure size 432x288 with 2 Axes>"
      ]
     },
     "metadata": {
      "needs_background": "light"
     },
     "output_type": "display_data"
    }
   ],
   "source": [
    "show_confusion_matrix(random_model_op, X, y)"
   ]
  }
 ],
 "metadata": {
  "kernelspec": {
   "display_name": "Python 3.9.12 ('base')",
   "language": "python",
   "name": "python3"
  },
  "language_info": {
   "codemirror_mode": {
    "name": "ipython",
    "version": 3
   },
   "file_extension": ".py",
   "mimetype": "text/x-python",
   "name": "python",
   "nbconvert_exporter": "python",
   "pygments_lexer": "ipython3",
   "version": "3.9.12"
  },
  "orig_nbformat": 4,
  "vscode": {
   "interpreter": {
    "hash": "9aed451c744d1ebe20ab8a3ebb67baaa0895c2d5e19779b491b1cbd4628d0352"
   }
  }
 },
 "nbformat": 4,
 "nbformat_minor": 2
}
