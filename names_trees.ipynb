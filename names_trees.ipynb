{
 "cells": [
  {
   "cell_type": "markdown",
   "metadata": {},
   "source": [
    "# Sex by name using decision trees and random forest\n"
   ]
  },
  {
   "cell_type": "code",
   "execution_count": 1,
   "metadata": {},
   "outputs": [],
   "source": [
    "# Import libraries\n",
    "import numpy as np\n",
    "import pandas as pd\n",
    "from sklearn.tree import DecisionTreeClassifier\n",
    "from sklearn.model_selection import train_test_split\n",
    "from sklearn.ensemble import RandomForestClassifier\n",
    "from sklearn.metrics import accuracy_score"
   ]
  },
  {
   "cell_type": "code",
   "execution_count": 2,
   "metadata": {},
   "outputs": [],
   "source": [
    "# Constants\n",
    "max_length_name = 20\n",
    "\n",
    "# function to convert a string to a list of ascii values\n",
    "def transform_string(string):\n",
    "   string = string.lower()\n",
    "   ascii_list = [ord(c) for c in string]\n",
    "   list_ = ascii_list + [0] * (max_length_name - len(ascii_list))\n",
    "   return np.array(list_).astype(np.float32)"
   ]
  },
  {
   "cell_type": "code",
   "execution_count": 3,
   "metadata": {},
   "outputs": [
    {
     "name": "stdout",
     "output_type": "stream",
     "text": [
      "      name  sex\n",
      "0    aaden    1\n",
      "1  aaliyah    0\n",
      "2    aamir    1\n",
      "3    aarav    1\n",
      "4    aaron    1\n",
      "<class 'pandas.core.frame.DataFrame'>\n",
      "RangeIndex: 12312 entries, 0 to 12311\n",
      "Data columns (total 2 columns):\n",
      " #   Column  Non-Null Count  Dtype \n",
      "---  ------  --------------  ----- \n",
      " 0   name    12311 non-null  object\n",
      " 1   sex     12312 non-null  int64 \n",
      "dtypes: int64(1), object(1)\n",
      "memory usage: 192.5+ KB\n",
      "None\n"
     ]
    }
   ],
   "source": [
    "#load data\n",
    "names = pd.read_csv('unificado.csv')\n",
    "\n",
    "#explore data\n",
    "print(names.head())\n",
    "print(names.info())"
   ]
  },
  {
   "cell_type": "code",
   "execution_count": 4,
   "metadata": {},
   "outputs": [],
   "source": [
    "# create X and y\n",
    "X = np.asarray(names['name'].values.tolist())\n",
    "y = np.asarray(names['sex'].values.tolist())\n",
    "\n",
    "X = np.array([transform_string(val) for val in X])\n",
    "# create train and test\n",
    "X_train, X_test, y_train, y_test = train_test_split(X, y, test_size=0.5, random_state=42)"
   ]
  },
  {
   "cell_type": "markdown",
   "metadata": {},
   "source": [
    "# Decision Trees"
   ]
  },
  {
   "cell_type": "code",
   "execution_count": 5,
   "metadata": {},
   "outputs": [],
   "source": [
    "tree_model = DecisionTreeClassifier()\n",
    "history = tree_model.fit(X_train, y_train)"
   ]
  },
  {
   "cell_type": "code",
   "execution_count": 6,
   "metadata": {},
   "outputs": [
    {
     "name": "stdout",
     "output_type": "stream",
     "text": [
      "Accuracy of Decision Tree Model:  0.6645549057829759\n"
     ]
    }
   ],
   "source": [
    "tree_model_pred = tree_model.predict(X_test)\n",
    "print('Accuracy of Decision Tree Model: ', accuracy_score(y_test, tree_model_pred))"
   ]
  },
  {
   "cell_type": "markdown",
   "metadata": {},
   "source": [
    "# Random Forest"
   ]
  },
  {
   "cell_type": "code",
   "execution_count": 7,
   "metadata": {},
   "outputs": [],
   "source": [
    "random_model = RandomForestClassifier()\n",
    "history = random_model.fit(X_train, y_train)"
   ]
  },
  {
   "cell_type": "code",
   "execution_count": 8,
   "metadata": {},
   "outputs": [
    {
     "name": "stdout",
     "output_type": "stream",
     "text": [
      "Accuracy of Random Forest Model:  0.725471085120208\n"
     ]
    }
   ],
   "source": [
    "random_model_pred = random_model.predict(X_test)\n",
    "print('Accuracy of Random Forest Model: ', accuracy_score(y_test, random_model_pred))"
   ]
  },
  {
   "cell_type": "code",
   "execution_count": 9,
   "metadata": {},
   "outputs": [],
   "source": [
    "def predict(name, model_loaded):\n",
    "    data = np.array([transform_string(val) for val in name])\n",
    "    result = model_loaded.predict(data)\n",
    "    return ['m' if logit > 0.5 else 'f' for logit in result]"
   ]
  },
  {
   "cell_type": "code",
   "execution_count": 10,
   "metadata": {},
   "outputs": [
    {
     "name": "stdout",
     "output_type": "stream",
     "text": [
      "Predictions for Decision Tree Model:  ['m', 'm', 'm', 'm', 'f', 'm']\n",
      "Predictions for Random Forest Model:  ['m', 'm', 'm', 'm', 'f', 'm']\n"
     ]
    }
   ],
   "source": [
    "test_data = ['Roberto', 'Stephen', 'Allan', 'Maria', 'Carla', 'Gilberto']\n",
    "predictions_trees = predict(test_data, tree_model)\n",
    "predictions_random = predict(test_data, random_model)\n",
    "print('Predictions for Decision Tree Model: ', predictions_trees)\n",
    "print('Predictions for Random Forest Model: ', predictions_random)"
   ]
  }
 ],
 "metadata": {
  "kernelspec": {
   "display_name": "Python 3.9.12 ('base')",
   "language": "python",
   "name": "python3"
  },
  "language_info": {
   "codemirror_mode": {
    "name": "ipython",
    "version": 3
   },
   "file_extension": ".py",
   "mimetype": "text/x-python",
   "name": "python",
   "nbconvert_exporter": "python",
   "pygments_lexer": "ipython3",
   "version": "3.9.12"
  },
  "orig_nbformat": 4,
  "vscode": {
   "interpreter": {
    "hash": "9aed451c744d1ebe20ab8a3ebb67baaa0895c2d5e19779b491b1cbd4628d0352"
   }
  }
 },
 "nbformat": 4,
 "nbformat_minor": 2
}
