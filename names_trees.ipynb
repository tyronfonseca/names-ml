{
  "cells": [
    {
      "cell_type": "markdown",
      "metadata": {
        "id": "Q5u-Ql4sM8-G"
      },
      "source": [
        "# Sex by name using decision trees and random forest\n"
      ]
    },
    {
      "cell_type": "markdown",
      "metadata": {
        "id": "U1oT9A6ADWmM"
      },
      "source": [
        "## Load data, libraries and functions"
      ]
    },
    {
      "cell_type": "code",
      "execution_count": null,
      "metadata": {
        "id": "qu0pmII5M8-I"
      },
      "outputs": [],
      "source": [
        "# Import libraries\n",
        "import numpy as np\n",
        "import pandas as pd\n",
        "from sklearn.tree import DecisionTreeClassifier\n",
        "from sklearn.model_selection import train_test_split\n",
        "from sklearn.ensemble import RandomForestClassifier\n",
        "from sklearn.metrics import accuracy_score"
      ]
    },
    {
      "cell_type": "code",
      "execution_count": null,
      "metadata": {
        "id": "2G6GODe1M8-K"
      },
      "outputs": [],
      "source": [
        "# Constants\n",
        "max_length_name = 20\n",
        "\n",
        "# function to convert a string to a list of ascii values\n",
        "def transform_string(string):\n",
        "   string = string.lower()\n",
        "   ascii_list = [ord(c) for c in string]\n",
        "   list_ = ascii_list + [0] * (max_length_name - len(ascii_list))\n",
        "   return np.array(list_).astype(np.float32)"
      ]
    },
    {
      "cell_type": "code",
      "execution_count": null,
      "metadata": {
        "colab": {
          "base_uri": "https://localhost:8080/"
        },
        "id": "wwd590fiM8-L",
        "outputId": "a9f5a646-67a3-4b33-ccf4-42aa0debfddb"
      },
      "outputs": [
        {
          "output_type": "stream",
          "name": "stdout",
          "text": [
            "       name  sex\n",
            "0    sammie    1\n",
            "1  bradford    1\n",
            "2   clarine    0\n",
            "3     elyse    0\n",
            "4  devaughn    1\n",
            "<class 'pandas.core.frame.DataFrame'>\n",
            "RangeIndex: 11741 entries, 0 to 11740\n",
            "Data columns (total 2 columns):\n",
            " #   Column  Non-Null Count  Dtype \n",
            "---  ------  --------------  ----- \n",
            " 0   name    11740 non-null  object\n",
            " 1   sex     11741 non-null  int64 \n",
            "dtypes: int64(1), object(1)\n",
            "memory usage: 183.6+ KB\n",
            "None\n"
          ]
        }
      ],
      "source": [
        "#load data\n",
        "names = pd.read_csv('https://raw.githubusercontent.com/tyronfonseca/names-ml/master/unificado-clean.csv')\n",
        "names = names.sample(frac=1, random_state=42).reset_index(drop=True)\n",
        "#explore data\n",
        "print(names.head())\n",
        "print(names.info())"
      ]
    },
    {
      "cell_type": "code",
      "execution_count": null,
      "metadata": {
        "id": "yyFSIcdpM8-M"
      },
      "outputs": [],
      "source": [
        "# create X and y\n",
        "X = np.asarray(names['name'].values.tolist())\n",
        "y = np.asarray(names['sex'].values.tolist())\n",
        "\n",
        "X = np.array([transform_string(val) for val in X])\n",
        "\n",
        "X_train, X_test, y_train, y_test = train_test_split(X, y, test_size=0.25, random_state=42)"
      ]
    },
    {
      "cell_type": "code",
      "execution_count": null,
      "metadata": {
        "id": "NLVtNmUsM8-N"
      },
      "outputs": [],
      "source": [
        "def predict(name, model_loaded):\n",
        "    data = np.array([transform_string(val) for val in name])\n",
        "    result = model_loaded.predict(data)\n",
        "    return ['m' if logit > 0.5 else 'f' for logit in result]"
      ]
    },
    {
      "cell_type": "code",
      "execution_count": null,
      "metadata": {
        "id": "pbeSbplyM8-N"
      },
      "outputs": [],
      "source": [
        "import matplotlib.pyplot as plt\n",
        "import numpy\n",
        "from sklearn import metrics\n",
        "\n",
        "def show_confusion_matrix(model, X, y):\n",
        "    prediction = model.predict(X)\n",
        "    confusion_matrix = metrics.confusion_matrix(y, prediction)\n",
        "\n",
        "    cm_display = metrics.ConfusionMatrixDisplay(confusion_matrix = confusion_matrix, display_labels = ['F', 'M'])\n",
        "\n",
        "    cm_display.plot()\n",
        "    plt.show()"
      ]
    },
    {
      "cell_type": "markdown",
      "metadata": {
        "id": "_cti6n5rM8-O"
      },
      "source": [
        "## Decision Trees"
      ]
    },
    {
      "cell_type": "code",
      "execution_count": null,
      "metadata": {
        "id": "Um96FQaxM8-O"
      },
      "outputs": [],
      "source": [
        "tree_model = DecisionTreeClassifier(max_depth=15, max_features=20)\n",
        "history = tree_model.fit(X_train, y_train)"
      ]
    },
    {
      "cell_type": "code",
      "execution_count": null,
      "metadata": {
        "colab": {
          "base_uri": "https://localhost:8080/"
        },
        "id": "_qJ_FUSXM8-P",
        "outputId": "4b856ebd-5f24-4e18-90e9-a77655abbe83"
      },
      "outputs": [
        {
          "output_type": "stream",
          "name": "stdout",
          "text": [
            "Accuracy of Decision Tree Model:  0.702316076294278\n"
          ]
        }
      ],
      "source": [
        "tree_model_pred = tree_model.predict(X_test)\n",
        "print('Accuracy of Decision Tree Model: ', accuracy_score(y_test, tree_model_pred))"
      ]
    },
    {
      "cell_type": "code",
      "execution_count": null,
      "metadata": {
        "colab": {
          "base_uri": "https://localhost:8080/",
          "height": 279
        },
        "id": "ZrODL7FJM8-P",
        "outputId": "eb846621-b040-45d2-c622-c7ef0bb28a4c"
      },
      "outputs": [
        {
          "output_type": "display_data",
          "data": {
            "text/plain": [
              "<Figure size 432x288 with 2 Axes>"
            ],
            "image/png": "[encoded data removed]"
          },
          "metadata": {
            "needs_background": "light"
          }
        }
      ],
      "source": [
        "show_confusion_matrix(tree_model, X_test, y_test) "
      ]
    },
    {
      "cell_type": "markdown",
      "metadata": {
        "id": "luRupWiaM8-Q"
      },
      "source": [
        "## Random Forest"
      ]
    },
    {
      "cell_type": "code",
      "execution_count": null,
      "metadata": {
        "id": "WiScU2YqM8-Q"
      },
      "outputs": [],
      "source": [
        "random_model = RandomForestClassifier(max_depth=15, max_features=20)\n",
        "history = random_model.fit(X_train, y_train)"
      ]
    },
    {
      "cell_type": "code",
      "execution_count": null,
      "metadata": {
        "colab": {
          "base_uri": "https://localhost:8080/"
        },
        "id": "lw9dpP9CM8-Q",
        "outputId": "7e71d674-e6be-425a-ec7a-6c434281d7ce"
      },
      "outputs": [
        {
          "output_type": "stream",
          "name": "stdout",
          "text": [
            "Accuracy of Random Forest Model:  0.7452316076294278\n"
          ]
        }
      ],
      "source": [
        "random_model_pred = random_model.predict(X_test)\n",
        "print('Accuracy of Random Forest Model: ', accuracy_score(y_test, random_model_pred))"
      ]
    },
    {
      "cell_type": "code",
      "execution_count": null,
      "metadata": {
        "colab": {
          "base_uri": "https://localhost:8080/",
          "height": 279
        },
        "id": "5KFJAZsGM8-Q",
        "outputId": "d0901fb8-e667-4a53-f38c-e6e26c40e1a4"
      },
      "outputs": [
        {
          "output_type": "display_data",
          "data": {
            "text/plain": [
              "<Figure size 432x288 with 2 Axes>"
            ],
            "image/png": "[encoded data removed]"
          },
          "metadata": {
            "needs_background": "light"
          }
        }
      ],
      "source": [
        "show_confusion_matrix(random_model, X_test, y_test)"
      ]
    },
    {
      "cell_type": "markdown",
      "metadata": {
        "id": "0qyZvQEkM8-R"
      },
      "source": [
        "## Tuning hiperparameters"
      ]
    },
    {
      "cell_type": "code",
      "execution_count": null,
      "metadata": {
        "id": "9brYH12ZM8-R"
      },
      "outputs": [],
      "source": [
        "from numpy import mean\n",
        "from numpy import std\n",
        "from sklearn.model_selection import KFold\n",
        "from sklearn.model_selection import GridSearchCV\n",
        "from sklearn.ensemble import RandomForestClassifier\n",
        "from sklearn.metrics import accuracy_score"
      ]
    },
    {
      "cell_type": "markdown",
      "metadata": {
        "id": "akpg9m-hM8-S"
      },
      "source": [
        "### Decision Trees"
      ]
    },
    {
      "cell_type": "code",
      "execution_count": null,
      "metadata": {
        "colab": {
          "base_uri": "https://localhost:8080/"
        },
        "id": "_hxCdndkM8-S",
        "outputId": "ebcf673c-aacd-4f51-f44b-393d706a9840"
      },
      "outputs": [
        {
          "name": "stdout",
          "output_type": "stream",
          "text": [
            ">acc=0.747, est=0.725, cfg={'max_depth': 10, 'max_features': 20}\n",
            ">acc=0.739, est=0.734, cfg={'max_depth': 10, 'max_features': 20}\n",
            ">acc=0.729, est=0.737, cfg={'max_depth': 10, 'max_features': 20}\n",
            ">acc=0.748, est=0.729, cfg={'max_depth': 10, 'max_features': 20}\n",
            ">acc=0.732, est=0.734, cfg={'max_depth': 10, 'max_features': 20}\n",
            ">acc=0.728, est=0.732, cfg={'max_depth': 10, 'max_features': 20}\n",
            ">acc=0.740, est=0.723, cfg={'max_depth': 10, 'max_features': 20}\n",
            ">acc=0.740, est=0.733, cfg={'max_depth': 10, 'max_features': 20}\n",
            ">acc=0.740, est=0.722, cfg={'max_depth': 10, 'max_features': 20}\n",
            ">acc=0.738, est=0.733, cfg={'max_depth': 10, 'max_features': 20}\n",
            "Accuracy: 0.738 (0.006)\n"
          ]
        }
      ],
      "source": [
        "cv_outer = KFold(n_splits=10, shuffle=True, random_state=1)\n",
        "# enumerate splits\n",
        "outer_results = list()\n",
        "for train_ix, test_ix in cv_outer.split(X):\n",
        "\t# split data\n",
        "\tX_train, X_test = X[train_ix, :], X[test_ix, :]\n",
        "\ty_train, y_test = y[train_ix], y[test_ix]\n",
        "\n",
        "\tcv_inner = KFold(n_splits=3, shuffle=True, random_state=1)\n",
        "\t# define the model\n",
        "\ttree_model_op = DecisionTreeClassifier()\n",
        "\t# define search space\n",
        "\tspace = dict()\n",
        "\tspace['max_depth'] = [1, 5, 10, 15, 20, 50]\n",
        "\tspace['max_features'] = [2, 4, 6, 8 ,10, 20]\n",
        "\n",
        "\tsearch = GridSearchCV(tree_model_op, space, scoring='accuracy', cv=cv_inner, refit=True)\n",
        "\tresult = search.fit(X_train, y_train)\n",
        " \n",
        "\t# get the best performing model fit on the whole training set\n",
        "\tbest_model = result.best_estimator_\n",
        "\t# evaluate model on the hold out dataset\n",
        "\tyhat = best_model.predict(X_test)\n",
        "\t# evaluate the model\n",
        "\tacc = accuracy_score(y_test, yhat)\n",
        "\t# store the result\n",
        "\touter_results.append(acc)\n",
        "\t# report progress\n",
        "\tprint('>acc=%.3f, est=%.3f, cfg=%s' % (acc, result.best_score_, result.best_params_))\n",
        "# summarize the estimated performance of the model\n",
        "print('Accuracy: %.3f (%.3f)' % (mean(outer_results), std(outer_results)))"
      ]
    },
    {
      "cell_type": "code",
      "execution_count": null,
      "metadata": {
        "colab": {
          "base_uri": "https://localhost:8080/"
        },
        "id": "mBILr7kDM8-T",
        "outputId": "6162c9b1-9e7a-4299-b521-c7ccc6eadc1a"
      },
      "outputs": [
        {
          "output_type": "stream",
          "name": "stdout",
          "text": [
            "Accuracy of Decision Tree Model Optimized:  0.7363760217983651\n"
          ]
        }
      ],
      "source": [
        "tree_model_op = DecisionTreeClassifier(max_depth=10, max_features=20)\n",
        "tree_model_op.fit(X_train, y_train)\n",
        "tree_model_pred = tree_model_op.predict(X_test)\n",
        "print('Accuracy of Decision Tree Model Optimized: ', accuracy_score(y_test, tree_model_pred))"
      ]
    },
    {
      "cell_type": "code",
      "execution_count": null,
      "metadata": {
        "colab": {
          "base_uri": "https://localhost:8080/",
          "height": 279
        },
        "id": "Hg_jYGb7M8-T",
        "outputId": "8ef9088a-132c-471b-9ef2-ecf4fc8b2cb3"
      },
      "outputs": [
        {
          "output_type": "display_data",
          "data": {
            "text/plain": [
              "<Figure size 432x288 with 2 Axes>"
            ],
            "image/png": "[encoded data removed]"
          },
          "metadata": {
            "needs_background": "light"
          }
        }
      ],
      "source": [
        "show_confusion_matrix(tree_model_op, X_test, y_test)"
      ]
    },
    {
      "cell_type": "markdown",
      "metadata": {
        "id": "h_A99zegM8-T"
      },
      "source": [
        "### Random Forests"
      ]
    },
    {
      "cell_type": "code",
      "execution_count": null,
      "metadata": {
        "colab": {
          "base_uri": "https://localhost:8080/"
        },
        "id": "-NRS-SLgM8-T",
        "outputId": "95278844-0262-4852-d7b5-5a86031ee6a3"
      },
      "outputs": [
        {
          "output_type": "stream",
          "name": "stdout",
          "text": [
            ">acc=0.760, est=0.756, cfg={'max_depth': 10, 'max_features': 20, 'n_estimators': 100}\n",
            ">acc=0.766, est=0.755, cfg={'max_depth': 10, 'max_features': 20, 'n_estimators': 250}\n",
            ">acc=0.751, est=0.758, cfg={'max_depth': 10, 'max_features': 20, 'n_estimators': 500}\n",
            ">acc=0.768, est=0.754, cfg={'max_depth': 10, 'max_features': 20, 'n_estimators': 50}\n",
            ">acc=0.758, est=0.759, cfg={'max_depth': 10, 'max_features': 20, 'n_estimators': 250}\n",
            ">acc=0.767, est=0.757, cfg={'max_depth': 10, 'max_features': 20, 'n_estimators': 250}\n",
            ">acc=0.764, est=0.757, cfg={'max_depth': 10, 'max_features': 20, 'n_estimators': 500}\n",
            ">acc=0.761, est=0.755, cfg={'max_depth': 10, 'max_features': 20, 'n_estimators': 250}\n",
            ">acc=0.767, est=0.757, cfg={'max_depth': 10, 'max_features': 20, 'n_estimators': 500}\n",
            ">acc=0.771, est=0.759, cfg={'max_depth': 10, 'max_features': 20, 'n_estimators': 500}\n",
            "Accuracy: 0.763 (0.006)\n"
          ]
        }
      ],
      "source": [
        "cv_outer = KFold(n_splits=10, shuffle=True, random_state=1)\n",
        "# enumerate splits\n",
        "outer_results = list()\n",
        "for train_ix, test_ix in cv_outer.split(X):\n",
        "\t# split data\n",
        "\tX_train, X_test = X[train_ix, :], X[test_ix, :]\n",
        "\ty_train, y_test = y[train_ix], y[test_ix]\n",
        "\n",
        "\tcv_inner = KFold(n_splits=3, shuffle=True, random_state=1)\n",
        "\t# define the model\n",
        "\trandom_model_op = RandomForestClassifier(random_state=1)\n",
        "\t# define search space\n",
        "\tspace = dict()\n",
        "\tspace['n_estimators'] = [50, 100, 250,500]\n",
        "\tspace['max_depth'] = [10, 15, 20, 50]\n",
        "\tspace['max_features'] = [2, 6, 10, 20]\n",
        "\n",
        "\tsearch = GridSearchCV(random_model_op, space, scoring='accuracy', cv=cv_inner, refit=True)\n",
        "\tresult = search.fit(X_train, y_train)\n",
        "\tbest_model = result.best_estimator_\n",
        "\tyhat = best_model.predict(X_test)\n",
        " \n",
        "\t# evaluate the model\n",
        "\tacc = accuracy_score(y_test, yhat)\n",
        "\t# store the result\n",
        "\touter_results.append(acc)\n",
        "\t# report progress\n",
        "\tprint('>acc=%.3f, est=%.3f, cfg=%s' % (acc, result.best_score_, result.best_params_))\n",
        "# summarize the estimated performance of the model\n",
        "print('Accuracy: %.3f (%.3f)' % (mean(outer_results), std(outer_results)))"
      ]
    },
    {
      "cell_type": "code",
      "execution_count": null,
      "metadata": {
        "colab": {
          "base_uri": "https://localhost:8080/"
        },
        "id": "Ksko39N1M8-U",
        "outputId": "b2c34d1d-75e3-4aa5-f7ad-c3dde08aedf6"
      },
      "outputs": [
        {
          "output_type": "stream",
          "name": "stdout",
          "text": [
            "Accuracy of Random Forest Model Optimized:  0.7683923705722071\n"
          ]
        }
      ],
      "source": [
        "random_model_op = RandomForestClassifier(n_estimators=500, max_features=20, max_depth=10)\n",
        "random_model_op.fit(X_train, y_train)\n",
        "random_model_pred = random_model_op.predict(X_test)\n",
        "print('Accuracy of Random Forest Model Optimized: ', accuracy_score(y_test, random_model_pred))"
      ]
    },
    {
      "cell_type": "code",
      "execution_count": null,
      "metadata": {
        "colab": {
          "base_uri": "https://localhost:8080/",
          "height": 280
        },
        "id": "n_BTfKdAM8-U",
        "outputId": "fc40836e-5995-49e0-97cb-05a1559c1a16"
      },
      "outputs": [
        {
          "output_type": "display_data",
          "data": {
            "text/plain": [
              "<Figure size 432x288 with 2 Axes>"
            ],
            "image/png": "[encoded data removed]"
          },
          "metadata": {
            "needs_background": "light"
          }
        }
      ],
      "source": [
        "show_confusion_matrix(random_model_op, X_test, y_test)"
      ]
    },
    {
      "cell_type": "markdown",
      "metadata": {
        "id": "fvIq0gA6hkKF"
      },
      "source": [
        "## Balanced Dataset"
      ]
    },
    {
      "cell_type": "code",
      "execution_count": null,
      "metadata": {
        "colab": {
          "base_uri": "https://localhost:8080/",
          "height": 381
        },
        "id": "5E-BtvHtht3t",
        "outputId": "59e8238c-a138-4b49-ffdd-e37504af274a"
      },
      "outputs": [
        {
          "output_type": "stream",
          "name": "stdout",
          "text": [
            "(11741, 2)\n"
          ]
        },
        {
          "output_type": "execute_result",
          "data": {
            "text/plain": [
              "        name  sex\n",
              "0     linton    1\n",
              "1  wadsworth    1\n",
              "2     oralia    0\n",
              "3    adolpho    1\n",
              "4     guthry    1\n",
              "5     thelma    0\n",
              "6      berna    0\n",
              "7  delphinia    0\n",
              "8       oral    0\n",
              "9  kimberely    0"
            ],
            "text/html": [
              "\n",
              "  <div id=\"df-bda28441-80ef-42c1-b651-0647a0788ec3\">\n",
              "    <div class=\"colab-df-container\">\n",
              "      <div>\n",
              "<style scoped>\n",
              "    .dataframe tbody tr th:only-of-type {\n",
              "        vertical-align: middle;\n",
              "    }\n",
              "\n",
              "    .dataframe tbody tr th {\n",
              "        vertical-align: top;\n",
              "    }\n",
              "\n",
              "    .dataframe thead th {\n",
              "        text-align: right;\n",
              "    }\n",
              "</style>\n",
              "<table border=\"1\" class=\"dataframe\">\n",
              "  <thead>\n",
              "    <tr style=\"text-align: right;\">\n",
              "      <th></th>\n",
              "      <th>name</th>\n",
              "      <th>sex</th>\n",
              "    </tr>\n",
              "  </thead>\n",
              "  <tbody>\n",
              "    <tr>\n",
              "      <th>0</th>\n",
              "      <td>linton</td>\n",
              "      <td>1</td>\n",
              "    </tr>\n",
              "    <tr>\n",
              "      <th>1</th>\n",
              "      <td>wadsworth</td>\n",
              "      <td>1</td>\n",
              "    </tr>\n",
              "    <tr>\n",
              "      <th>2</th>\n",
              "      <td>oralia</td>\n",
              "      <td>0</td>\n",
              "    </tr>\n",
              "    <tr>\n",
              "      <th>3</th>\n",
              "      <td>adolpho</td>\n",
              "      <td>1</td>\n",
              "    </tr>\n",
              "    <tr>\n",
              "      <th>4</th>\n",
              "      <td>guthry</td>\n",
              "      <td>1</td>\n",
              "    </tr>\n",
              "    <tr>\n",
              "      <th>5</th>\n",
              "      <td>thelma</td>\n",
              "      <td>0</td>\n",
              "    </tr>\n",
              "    <tr>\n",
              "      <th>6</th>\n",
              "      <td>berna</td>\n",
              "      <td>0</td>\n",
              "    </tr>\n",
              "    <tr>\n",
              "      <th>7</th>\n",
              "      <td>delphinia</td>\n",
              "      <td>0</td>\n",
              "    </tr>\n",
              "    <tr>\n",
              "      <th>8</th>\n",
              "      <td>oral</td>\n",
              "      <td>0</td>\n",
              "    </tr>\n",
              "    <tr>\n",
              "      <th>9</th>\n",
              "      <td>kimberely</td>\n",
              "      <td>0</td>\n",
              "    </tr>\n",
              "  </tbody>\n",
              "</table>\n",
              "</div>\n",
              "      <button class=\"colab-df-convert\" onclick=\"convertToInteractive('df-bda28441-80ef-42c1-b651-0647a0788ec3')\"\n",
              "              title=\"Convert this dataframe to an interactive table.\"\n",
              "              style=\"display:none;\">\n",
              "        \n",
              "  <svg xmlns=\"http://www.w3.org/2000/svg\" height=\"24px\"viewBox=\"0 0 24 24\"\n",
              "       width=\"24px\">\n",
              "    <path d=\"M0 0h24v24H0V0z\" fill=\"none\"/>\n",
              "    <path d=\"M18.56 5.44l.94 2.06.94-2.06 2.06-.94-2.06-.94-.94-2.06-.94 2.06-2.06.94zm-11 1L8.5 8.5l.94-2.06 2.06-.94-2.06-.94L8.5 2.5l-.94 2.06-2.06.94zm10 10l.94 2.06.94-2.06 2.06-.94-2.06-.94-.94-2.06-.94 2.06-2.06.94z\"/><path d=\"M17.41 7.96l-1.37-1.37c-.4-.4-.92-.59-1.43-.59-.52 0-1.04.2-1.43.59L10.3 9.45l-7.72 7.72c-.78.78-.78 2.05 0 2.83L4 21.41c.39.39.9.59 1.41.59.51 0 1.02-.2 1.41-.59l7.78-7.78 2.81-2.81c.8-.78.8-2.07 0-2.86zM5.41 20L4 18.59l7.72-7.72 1.47 1.35L5.41 20z\"/>\n",
              "  </svg>\n",
              "      </button>\n",
              "      \n",
              "  <style>\n",
              "    .colab-df-container {\n",
              "      display:flex;\n",
              "      flex-wrap:wrap;\n",
              "      gap: 12px;\n",
              "    }\n",
              "\n",
              "    .colab-df-convert {\n",
              "      background-color: #E8F0FE;\n",
              "      border: none;\n",
              "      border-radius: 50%;\n",
              "      cursor: pointer;\n",
              "      display: none;\n",
              "      fill: #1967D2;\n",
              "      height: 32px;\n",
              "      padding: 0 0 0 0;\n",
              "      width: 32px;\n",
              "    }\n",
              "\n",
              "    .colab-df-convert:hover {\n",
              "      background-color: #E2EBFA;\n",
              "      box-shadow: 0px 1px 2px rgba(60, 64, 67, 0.3), 0px 1px 3px 1px rgba(60, 64, 67, 0.15);\n",
              "      fill: #174EA6;\n",
              "    }\n",
              "\n",
              "    [theme=dark] .colab-df-convert {\n",
              "      background-color: #3B4455;\n",
              "      fill: #D2E3FC;\n",
              "    }\n",
              "\n",
              "    [theme=dark] .colab-df-convert:hover {\n",
              "      background-color: #434B5C;\n",
              "      box-shadow: 0px 1px 3px 1px rgba(0, 0, 0, 0.15);\n",
              "      filter: drop-shadow(0px 1px 2px rgba(0, 0, 0, 0.3));\n",
              "      fill: #FFFFFF;\n",
              "    }\n",
              "  </style>\n",
              "\n",
              "      <script>\n",
              "        const buttonEl =\n",
              "          document.querySelector('#df-bda28441-80ef-42c1-b651-0647a0788ec3 button.colab-df-convert');\n",
              "        buttonEl.style.display =\n",
              "          google.colab.kernel.accessAllowed ? 'block' : 'none';\n",
              "\n",
              "        async function convertToInteractive(key) {\n",
              "          const element = document.querySelector('#df-bda28441-80ef-42c1-b651-0647a0788ec3');\n",
              "          const dataTable =\n",
              "            await google.colab.kernel.invokeFunction('convertToInteractive',\n",
              "                                                     [key], {});\n",
              "          if (!dataTable) return;\n",
              "\n",
              "          const docLinkHtml = 'Like what you see? Visit the ' +\n",
              "            '<a target=\"_blank\" href=https://colab.research.google.com/notebooks/data_table.ipynb>data table notebook</a>'\n",
              "            + ' to learn more about interactive tables.';\n",
              "          element.innerHTML = '';\n",
              "          dataTable['output_type'] = 'display_data';\n",
              "          await google.colab.output.renderOutput(dataTable, element);\n",
              "          const docLink = document.createElement('div');\n",
              "          docLink.innerHTML = docLinkHtml;\n",
              "          element.appendChild(docLink);\n",
              "        }\n",
              "      </script>\n",
              "    </div>\n",
              "  </div>\n",
              "  "
            ]
          },
          "metadata": {},
          "execution_count": 19
        }
      ],
      "source": [
        "names_df = names.sample(frac=1, random_state=42).reset_index(drop=True)\n",
        "print(names_df.shape)\n",
        "names_df.head(10)"
      ]
    },
    {
      "cell_type": "code",
      "execution_count": null,
      "metadata": {
        "colab": {
          "base_uri": "https://localhost:8080/"
        },
        "id": "aOiKAT7uhhsU",
        "outputId": "ff742ee9-4151-4cb4-a7a8-23c29806ee48"
      },
      "outputs": [
        {
          "output_type": "stream",
          "name": "stdout",
          "text": [
            "Males count: 4850\n",
            "Females count: 6891\n",
            "Males count: 4850\n",
            "Females count: 4850\n"
          ]
        }
      ],
      "source": [
        "print(\"Males count: \"+str(np.sum(names_df['sex']> 0)))\n",
        "print(\"Females count: \"+str(np.sum(names_df['sex'] < 1)))\n",
        "\n",
        "names_df = names_df.drop(names_df[names_df['sex'] < 1].sample(2041).index)\n",
        "\n",
        "print(\"Males count: \"+str(np.sum(names_df['sex']> 0)))\n",
        "print(\"Females count: \"+str(np.sum(names_df['sex'] < 1)))"
      ]
    },
    {
      "cell_type": "code",
      "execution_count": null,
      "metadata": {
        "id": "pZTJqfbsiMU-"
      },
      "outputs": [],
      "source": [
        "#fit optimized tree\n",
        "X_balanced = np.asarray(names_df['name'].values.tolist())\n",
        "y_balanced = np.asarray(names_df['sex'].values.tolist())\n",
        "\n",
        "X_balanced = np.array([transform_string(val) for val in X_balanced])\n",
        "\n",
        "X_train_balanced, X_test_balanced, y_train_balanced, y_test_balanced = train_test_split(X_balanced, y_balanced, test_size=0.25, random_state=42)"
      ]
    },
    {
      "cell_type": "code",
      "execution_count": null,
      "metadata": {
        "colab": {
          "base_uri": "https://localhost:8080/",
          "height": 226
        },
        "id": "m0fkYqLgD1uq",
        "outputId": "3b972455-0d38-40de-c52a-704797214d5a"
      },
      "outputs": [
        {
          "name": "stdout",
          "output_type": "stream",
          "text": [
            "Accuracy of Decision Tree Model Optimized with dataset balanced:  0.7294845360824742\n"
          ]
        }
      ],
      "source": [
        "tree_model_op.fit(X_train_balanced,y_train_balanced)\n",
        "tree_model_pred = tree_model_op.predict(X_test_balanced)\n",
        "print('Accuracy of Decision Tree Model Optimized with dataset balanced: ', accuracy_score(y_test_balanced, tree_model_pred))"
      ]
    },
    {
      "cell_type": "code",
      "execution_count": null,
      "metadata": {
        "colab": {
          "base_uri": "https://localhost:8080/",
          "height": 279
        },
        "id": "HMbxpx4KjvHm",
        "outputId": "aa79e6de-72eb-4013-ecc5-3a9feb919b47"
      },
      "outputs": [
        {
          "data": {
            "image/png": "[encoded data removed]",
            "text/plain": [
              "<Figure size 432x288 with 2 Axes>"
            ]
          },
          "metadata": {
            "needs_background": "light"
          },
          "output_type": "display_data"
        }
      ],
      "source": [
        "show_confusion_matrix(tree_model_op,X_balanced,y_balanced)"
      ]
    },
    {
      "cell_type": "code",
      "execution_count": null,
      "metadata": {
        "id": "UqdY1j8i_UlJ",
        "colab": {
          "base_uri": "https://localhost:8080/"
        },
        "outputId": "dc1a7560-3b8d-4757-f5f3-af4d5c9a104f"
      },
      "outputs": [
        {
          "output_type": "stream",
          "name": "stdout",
          "text": [
            "Accuracy of Random Forest Model Optimized with dataset balanced:  0.7616494845360825\n"
          ]
        }
      ],
      "source": [
        "random_model_op.fit(X_train_balanced,y_train_balanced)\n",
        "random_model_pred = random_model_op.predict(X_test_balanced)\n",
        "print('Accuracy of Random Forest Model Optimized with dataset balanced: ', accuracy_score(y_test_balanced, random_model_pred))\n"
      ]
    },
    {
      "cell_type": "code",
      "execution_count": null,
      "metadata": {
        "colab": {
          "base_uri": "https://localhost:8080/",
          "height": 280
        },
        "id": "yooDl1o0j1Xa",
        "outputId": "7a9c5aac-a4db-4a80-af31-ac78515fe665"
      },
      "outputs": [
        {
          "output_type": "display_data",
          "data": {
            "text/plain": [
              "<Figure size 432x288 with 2 Axes>"
            ],
            "image/png": "[encoded data removed]"
          },
          "metadata": {
            "needs_background": "light"
          }
        }
      ],
      "source": [
        "show_confusion_matrix(random_model_op,X_balanced,y_balanced)"
      ]
    }
  ],
  "metadata": {
    "colab": {
      "collapsed_sections": [],
      "name": "names_trees_v2.ipynb",
      "provenance": []
    },
    "kernelspec": {
      "display_name": "Python 3.9.12 ('base')",
      "language": "python",
      "name": "python3"
    },
    "language_info": {
      "codemirror_mode": {
        "name": "ipython",
        "version": 3
      },
      "file_extension": ".py",
      "mimetype": "text/x-python",
      "name": "python",
      "nbconvert_exporter": "python",
      "pygments_lexer": "ipython3",
      "version": "3.9.12"
    },
    "orig_nbformat": 4,
    "vscode": {
      "interpreter": {
        "hash": "9aed451c744d1ebe20ab8a3ebb67baaa0895c2d5e19779b491b1cbd4628d0352"
      }
    }
  },
  "nbformat": 4,
  "nbformat_minor": 0
}