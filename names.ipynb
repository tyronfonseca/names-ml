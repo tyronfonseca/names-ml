{
 "cells": [
  {
   "cell_type": "markdown",
   "metadata": {},
   "source": [
    "### First steps\n",
    "We create some functions to parse the data and declare some constants that would be useful"
   ]
  },
  {
   "cell_type": "code",
   "execution_count": 2,
   "metadata": {},
   "outputs": [],
   "source": [
    "# Constants\n",
    "max_length_name = 20\n",
    "\n",
    "# function to convert a string to a list of ascii values\n",
    "def transform_string(string):\n",
    "   string = string.lower()\n",
    "   ascii_list = [ord(c) for c in string]\n",
    "   list_ = ascii_list + [0] * (max_length_name - len(ascii_list))\n",
    "   return np.array(list_).astype(np.float32)\n"
   ]
  },
  {
   "cell_type": "markdown",
   "metadata": {},
   "source": [
    "### Load libraries/API's"
   ]
  },
  {
   "cell_type": "code",
   "execution_count": 3,
   "metadata": {},
   "outputs": [],
   "source": [
    "from tensorflow.keras import Sequential\n",
    "from tensorflow.keras.layers import Embedding, Bidirectional, LSTM, Dense\n",
    "from tensorflow.keras.optimizers import Adam\n",
    "from sklearn.model_selection import train_test_split\n",
    "import numpy as np\n",
    "import pandas as pd\n"
   ]
  },
  {
   "cell_type": "markdown",
   "metadata": {},
   "source": [
    "### Build Model"
   ]
  },
  {
   "cell_type": "code",
   "execution_count": 4,
   "metadata": {},
   "outputs": [],
   "source": [
    "def build_model(vocab_size=255, embedding_dim=28, rnn_units=128):\n",
    "    ''' Build a model with an embedding layer, bidirectional LSTM layer, and a dense layer.\n",
    "        vocab_size: number of words in the vocabulary\n",
    "        embedding_dim: dimension of the embedding vectors\n",
    "        rnn_units: number of units in the RNN\n",
    "    '''\n",
    "    #build NN See. https://blog.paperspace.com/bidirectional-rnn-keras/\n",
    "    #  https://towardsdatascience.com/boy-or-girl-a-machine-learning-web-app-to-detect-gender-from-name-16dc0331716c\n",
    "\n",
    "    model = Sequential()\n",
    "    model.add(Embedding(vocab_size, embedding_dim, input_length=max_length_name))\n",
    "    model.add(Bidirectional(LSTM(rnn_units, recurrent_dropout=0.2, dropout=0.2)))\n",
    "    model.add(Dense(1, activation='sigmoid'))\n",
    "\n",
    "    #Compile\n",
    "    model.compile(loss='binary_crossentropy', optimizer=Adam(\n",
    "        learning_rate=0.01), metrics=['accuracy'])\n",
    "\n",
    "    return model\n"
   ]
  },
  {
   "cell_type": "markdown",
   "metadata": {},
   "source": [
    "### Train the model"
   ]
  },
  {
   "cell_type": "code",
   "execution_count": 5,
   "metadata": {},
   "outputs": [
    {
     "name": "stdout",
     "output_type": "stream",
     "text": [
      "(12312, 2)\n"
     ]
    },
    {
     "data": {
      "text/html": [
       "<div>\n",
       "<style scoped>\n",
       "    .dataframe tbody tr th:only-of-type {\n",
       "        vertical-align: middle;\n",
       "    }\n",
       "\n",
       "    .dataframe tbody tr th {\n",
       "        vertical-align: top;\n",
       "    }\n",
       "\n",
       "    .dataframe thead th {\n",
       "        text-align: right;\n",
       "    }\n",
       "</style>\n",
       "<table border=\"1\" class=\"dataframe\">\n",
       "  <thead>\n",
       "    <tr style=\"text-align: right;\">\n",
       "      <th></th>\n",
       "      <th>name</th>\n",
       "      <th>sex</th>\n",
       "    </tr>\n",
       "  </thead>\n",
       "  <tbody>\n",
       "    <tr>\n",
       "      <th>0</th>\n",
       "      <td>aaden</td>\n",
       "      <td>1</td>\n",
       "    </tr>\n",
       "    <tr>\n",
       "      <th>1</th>\n",
       "      <td>aaliyah</td>\n",
       "      <td>0</td>\n",
       "    </tr>\n",
       "    <tr>\n",
       "      <th>2</th>\n",
       "      <td>aamir</td>\n",
       "      <td>1</td>\n",
       "    </tr>\n",
       "    <tr>\n",
       "      <th>3</th>\n",
       "      <td>aarav</td>\n",
       "      <td>1</td>\n",
       "    </tr>\n",
       "    <tr>\n",
       "      <th>4</th>\n",
       "      <td>aaron</td>\n",
       "      <td>1</td>\n",
       "    </tr>\n",
       "    <tr>\n",
       "      <th>5</th>\n",
       "      <td>aaron</td>\n",
       "      <td>0</td>\n",
       "    </tr>\n",
       "    <tr>\n",
       "      <th>6</th>\n",
       "      <td>aaron</td>\n",
       "      <td>1</td>\n",
       "    </tr>\n",
       "    <tr>\n",
       "      <th>7</th>\n",
       "      <td>ab</td>\n",
       "      <td>1</td>\n",
       "    </tr>\n",
       "    <tr>\n",
       "      <th>8</th>\n",
       "      <td>abagael</td>\n",
       "      <td>0</td>\n",
       "    </tr>\n",
       "    <tr>\n",
       "      <th>9</th>\n",
       "      <td>abagail</td>\n",
       "      <td>0</td>\n",
       "    </tr>\n",
       "  </tbody>\n",
       "</table>\n",
       "</div>"
      ],
      "text/plain": [
       "      name  sex\n",
       "0    aaden    1\n",
       "1  aaliyah    0\n",
       "2    aamir    1\n",
       "3    aarav    1\n",
       "4    aaron    1\n",
       "5    aaron    0\n",
       "6    aaron    1\n",
       "7       ab    1\n",
       "8  abagael    0\n",
       "9  abagail    0"
      ]
     },
     "execution_count": 5,
     "metadata": {},
     "output_type": "execute_result"
    }
   ],
   "source": [
    "# load the data\n",
    "df = pd.read_csv('unificado.csv')\n",
    "print(df.shape)\n",
    "df.head(10)"
   ]
  },
  {
   "cell_type": "code",
   "execution_count": 6,
   "metadata": {},
   "outputs": [],
   "source": [
    "model = build_model()"
   ]
  },
  {
   "cell_type": "code",
   "execution_count": 7,
   "metadata": {},
   "outputs": [],
   "source": [
    "\n",
    "X = np.asarray(df['name'].values.tolist())\n",
    "Y = np.asarray(df['sex'].values.tolist())\n",
    "\n",
    "#Tranform names to numbers\n",
    "X = np.array([transform_string(val) for val in X])"
   ]
  },
  {
   "cell_type": "code",
   "execution_count": 8,
   "metadata": {},
   "outputs": [
    {
     "name": "stdout",
     "output_type": "stream",
     "text": [
      "Epoch 1/50\n",
      "25/25 [==============================] - 30s 776ms/step - loss: 0.6647 - accuracy: 0.6018\n",
      "Epoch 2/50\n",
      "25/25 [==============================] - 20s 784ms/step - loss: 0.5860 - accuracy: 0.6892\n",
      "Epoch 3/50\n",
      "25/25 [==============================] - 16s 649ms/step - loss: 0.5296 - accuracy: 0.7412\n",
      "Epoch 4/50\n",
      "25/25 [==============================] - 16s 651ms/step - loss: 0.5108 - accuracy: 0.7560\n",
      "Epoch 5/50\n",
      "25/25 [==============================] - 22s 909ms/step - loss: 0.4892 - accuracy: 0.7667\n",
      "Epoch 6/50\n",
      "25/25 [==============================] - 20s 812ms/step - loss: 0.4692 - accuracy: 0.7765\n",
      "Epoch 7/50\n",
      "25/25 [==============================] - 20s 783ms/step - loss: 0.4629 - accuracy: 0.7776\n",
      "Epoch 8/50\n",
      "25/25 [==============================] - 20s 816ms/step - loss: 0.4517 - accuracy: 0.7872\n",
      "Epoch 9/50\n",
      "25/25 [==============================] - 21s 853ms/step - loss: 0.4491 - accuracy: 0.7876\n",
      "Epoch 10/50\n",
      "25/25 [==============================] - 21s 824ms/step - loss: 0.4415 - accuracy: 0.7913\n",
      "Epoch 11/50\n",
      "25/25 [==============================] - 21s 854ms/step - loss: 0.4351 - accuracy: 0.7904\n",
      "Epoch 12/50\n",
      "25/25 [==============================] - 22s 877ms/step - loss: 0.4294 - accuracy: 0.7944\n",
      "Epoch 13/50\n",
      "25/25 [==============================] - 27s 1s/step - loss: 0.4220 - accuracy: 0.7987\n",
      "Epoch 14/50\n",
      "25/25 [==============================] - 20s 803ms/step - loss: 0.4159 - accuracy: 0.8016\n",
      "Epoch 15/50\n",
      "25/25 [==============================] - 27s 1s/step - loss: 0.4106 - accuracy: 0.8058\n",
      "Epoch 16/50\n",
      "25/25 [==============================] - 25s 1s/step - loss: 0.4000 - accuracy: 0.8095\n",
      "Epoch 17/50\n",
      "25/25 [==============================] - 24s 947ms/step - loss: 0.3943 - accuracy: 0.8155\n",
      "Epoch 18/50\n",
      "25/25 [==============================] - 28s 1s/step - loss: 0.3850 - accuracy: 0.8189\n",
      "Epoch 19/50\n",
      "25/25 [==============================] - 24s 965ms/step - loss: 0.3786 - accuracy: 0.8203\n",
      "Epoch 20/50\n",
      "25/25 [==============================] - 21s 853ms/step - loss: 0.3724 - accuracy: 0.8262\n",
      "Epoch 21/50\n",
      "25/25 [==============================] - 21s 843ms/step - loss: 0.3635 - accuracy: 0.8315\n",
      "Epoch 22/50\n",
      "25/25 [==============================] - 23s 926ms/step - loss: 0.3590 - accuracy: 0.8302\n",
      "Epoch 23/50\n",
      "25/25 [==============================] - 22s 889ms/step - loss: 0.3504 - accuracy: 0.8371\n",
      "Epoch 24/50\n",
      "25/25 [==============================] - 22s 855ms/step - loss: 0.3407 - accuracy: 0.8428\n",
      "Epoch 25/50\n",
      "25/25 [==============================] - 21s 838ms/step - loss: 0.3380 - accuracy: 0.8437\n",
      "Epoch 26/50\n",
      "25/25 [==============================] - 21s 827ms/step - loss: 0.3336 - accuracy: 0.8459\n",
      "Epoch 27/50\n",
      "25/25 [==============================] - 21s 836ms/step - loss: 0.3213 - accuracy: 0.8537\n",
      "Epoch 28/50\n",
      "25/25 [==============================] - 23s 920ms/step - loss: 0.3203 - accuracy: 0.8484\n",
      "Epoch 29/50\n",
      "25/25 [==============================] - 21s 853ms/step - loss: 0.3172 - accuracy: 0.8499\n",
      "Epoch 30/50\n",
      "25/25 [==============================] - 20s 815ms/step - loss: 0.3148 - accuracy: 0.8562\n",
      "Epoch 31/50\n",
      "25/25 [==============================] - 21s 820ms/step - loss: 0.3035 - accuracy: 0.8584\n",
      "Epoch 32/50\n",
      "25/25 [==============================] - 21s 830ms/step - loss: 0.3039 - accuracy: 0.8574\n",
      "Epoch 33/50\n",
      "25/25 [==============================] - 21s 827ms/step - loss: 0.3019 - accuracy: 0.8584\n",
      "Epoch 34/50\n",
      "25/25 [==============================] - 22s 861ms/step - loss: 0.2962 - accuracy: 0.8610\n",
      "Epoch 35/50\n",
      "25/25 [==============================] - 19s 775ms/step - loss: 0.2906 - accuracy: 0.8646\n",
      "Epoch 36/50\n",
      "25/25 [==============================] - 20s 798ms/step - loss: 0.2933 - accuracy: 0.8651\n",
      "Epoch 37/50\n",
      "25/25 [==============================] - 20s 790ms/step - loss: 0.2846 - accuracy: 0.8674\n",
      "Epoch 38/50\n",
      "25/25 [==============================] - 21s 843ms/step - loss: 0.2921 - accuracy: 0.8657\n",
      "Epoch 39/50\n",
      "25/25 [==============================] - 20s 807ms/step - loss: 0.2823 - accuracy: 0.8709\n",
      "Epoch 40/50\n",
      "25/25 [==============================] - 20s 815ms/step - loss: 0.2787 - accuracy: 0.8708\n",
      "Epoch 41/50\n",
      "25/25 [==============================] - 20s 795ms/step - loss: 0.2857 - accuracy: 0.8668\n",
      "Epoch 42/50\n",
      "25/25 [==============================] - 20s 813ms/step - loss: 0.2813 - accuracy: 0.8684\n",
      "Epoch 43/50\n",
      "25/25 [==============================] - 21s 843ms/step - loss: 0.2739 - accuracy: 0.8700\n",
      "Epoch 44/50\n",
      "25/25 [==============================] - 30s 1s/step - loss: 0.2747 - accuracy: 0.8725\n",
      "Epoch 45/50\n",
      "25/25 [==============================] - 27s 1s/step - loss: 0.2742 - accuracy: 0.8709\n",
      "Epoch 46/50\n",
      "25/25 [==============================] - 20s 811ms/step - loss: 0.2748 - accuracy: 0.8715\n",
      "Epoch 47/50\n",
      "25/25 [==============================] - 21s 829ms/step - loss: 0.2702 - accuracy: 0.8749\n",
      "Epoch 48/50\n",
      "25/25 [==============================] - 20s 784ms/step - loss: 0.2700 - accuracy: 0.8699\n",
      "Epoch 49/50\n",
      "25/25 [==============================] - 20s 779ms/step - loss: 0.2655 - accuracy: 0.8735\n",
      "Epoch 50/50\n",
      "25/25 [==============================] - 20s 788ms/step - loss: 0.2722 - accuracy: 0.8748\n"
     ]
    }
   ],
   "source": [
    "history = model.fit(x=X, y=Y, batch_size=500, epochs=50)\n",
    "model.save('model_v1.h5')"
   ]
  },
  {
   "cell_type": "code",
   "execution_count": 9,
   "metadata": {},
   "outputs": [
    {
     "name": "stdout",
     "output_type": "stream",
     "text": [
      "385/385 [==============================] - 11s 24ms/step - loss: 0.1993 - accuracy: 0.9025\n"
     ]
    },
    {
     "data": {
      "text/plain": [
       "[0.19927044212818146, 0.9025341272354126]"
      ]
     },
     "execution_count": 9,
     "metadata": {},
     "output_type": "execute_result"
    }
   ],
   "source": [
    "#evaluate model\n",
    "model.evaluate(X, Y)\n"
   ]
  },
  {
   "cell_type": "code",
   "execution_count": 10,
   "metadata": {},
   "outputs": [],
   "source": [
    "def predict(name, model_loaded):\n",
    "    data = np.array([transform_string(val) for val in name])\n",
    "    result = model_loaded.predict(data)\n",
    "    return ['m' if logit > 0.5 else 'f' for logit in result], [logit[0] for logit in result]\n"
   ]
  },
  {
   "cell_type": "code",
   "execution_count": 11,
   "metadata": {},
   "outputs": [
    {
     "name": "stdout",
     "output_type": "stream",
     "text": [
      "1/1 [==============================] - 1s 968ms/step\n",
      "['m', 'm', 'm', 'f', 'f']\n",
      "[0.92509604, 0.96199495, 0.9767166, 0.18516563, 0.049329896]\n"
     ]
    }
   ],
   "source": [
    "test_data = ['Roberto', 'Stephen', 'Allan', 'Amanda', 'beca']\n",
    "predictions, logit = predict(test_data, model)\n",
    "print(predictions)\n",
    "print(logit)"
   ]
  }
 ],
 "metadata": {
  "kernelspec": {
   "display_name": "Python 3.9.7 ('base')",
   "language": "python",
   "name": "python3"
  },
  "language_info": {
   "codemirror_mode": {
    "name": "ipython",
    "version": 3
   },
   "file_extension": ".py",
   "mimetype": "text/x-python",
   "name": "python",
   "nbconvert_exporter": "python",
   "pygments_lexer": "ipython3",
   "version": "3.9.7"
  },
  "orig_nbformat": 4,
  "vscode": {
   "interpreter": {
    "hash": "3130a17c87577aaeb4f5cfb4d14f867bb781d9b1359add0d22593ecc511924f1"
   }
  }
 },
 "nbformat": 4,
 "nbformat_minor": 2
}
