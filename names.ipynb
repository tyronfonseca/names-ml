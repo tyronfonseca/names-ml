{
 "cells": [
  {
   "cell_type": "markdown",
   "metadata": {},
   "source": [
    "### First steps\n",
    "We create some functions to parse the data and declare some constants that would be useful"
   ]
  },
  {
   "cell_type": "code",
   "execution_count": 1,
   "metadata": {},
   "outputs": [],
   "source": [
    "# Constants\n",
    "max_length_name = 20\n",
    "\n",
    "# function to convert a string to a list of ascii values\n",
    "def transform_string(string):\n",
    "   string = string.lower()\n",
    "   ascii_list = [ord(c) for c in string]\n",
    "   list_ = ascii_list + [0] * (max_length_name - len(ascii_list))\n",
    "   return np.array(list_).astype(np.float32)\n"
   ]
  },
  {
   "cell_type": "markdown",
   "metadata": {},
   "source": [
    "### Load libraries/API's"
   ]
  },
  {
   "cell_type": "code",
   "execution_count": null,
   "metadata": {},
   "outputs": [],
   "source": [
    "from tensorflow.keras import Sequential\n",
    "from tensorflow.keras.layers import Embedding, Bidirectional, LSTM, Dense\n",
    "from tensorflow.keras.optimizers import Adam\n",
    "from sklearn.model_selection import train_test_split\n",
    "import numpy as np\n",
    "import pandas as pd\n"
   ]
  },
  {
   "cell_type": "markdown",
   "metadata": {},
   "source": [
    "### Build Model"
   ]
  },
  {
   "cell_type": "code",
   "execution_count": 3,
   "metadata": {},
   "outputs": [],
   "source": [
    "def build_model(vocab_size=255, embedding_dim=256, rnn_units=128):\n",
    "    #build NN\n",
    "    model = Sequential()\n",
    "    model.add(Embedding(vocab_size, embedding_dim, input_length=max_length_name))\n",
    "    model.add(Bidirectional(LSTM(rnn_units, recurrent_dropout=0.2, dropout=0.2)))\n",
    "    model.add(Dense(1, activation='sigmoid'))\n",
    "\n",
    "    #Compile\n",
    "    model.compile(loss='binary_crossentropy', optimizer=Adam(\n",
    "        learning_rate=0.01), metrics=['accuracy'])\n",
    "\n",
    "    return model\n"
   ]
  },
  {
   "cell_type": "markdown",
   "metadata": {},
   "source": [
    "### Train the model"
   ]
  },
  {
   "cell_type": "code",
   "execution_count": 4,
   "metadata": {},
   "outputs": [
    {
     "name": "stdout",
     "output_type": "stream",
     "text": [
      "(12312, 2)\n"
     ]
    },
    {
     "data": {
      "text/html": [
       "<div>\n",
       "<style scoped>\n",
       "    .dataframe tbody tr th:only-of-type {\n",
       "        vertical-align: middle;\n",
       "    }\n",
       "\n",
       "    .dataframe tbody tr th {\n",
       "        vertical-align: top;\n",
       "    }\n",
       "\n",
       "    .dataframe thead th {\n",
       "        text-align: right;\n",
       "    }\n",
       "</style>\n",
       "<table border=\"1\" class=\"dataframe\">\n",
       "  <thead>\n",
       "    <tr style=\"text-align: right;\">\n",
       "      <th></th>\n",
       "      <th>name</th>\n",
       "      <th>sex</th>\n",
       "    </tr>\n",
       "  </thead>\n",
       "  <tbody>\n",
       "    <tr>\n",
       "      <th>0</th>\n",
       "      <td>aaden</td>\n",
       "      <td>1</td>\n",
       "    </tr>\n",
       "    <tr>\n",
       "      <th>1</th>\n",
       "      <td>aaliyah</td>\n",
       "      <td>0</td>\n",
       "    </tr>\n",
       "    <tr>\n",
       "      <th>2</th>\n",
       "      <td>aamir</td>\n",
       "      <td>1</td>\n",
       "    </tr>\n",
       "    <tr>\n",
       "      <th>3</th>\n",
       "      <td>aarav</td>\n",
       "      <td>1</td>\n",
       "    </tr>\n",
       "    <tr>\n",
       "      <th>4</th>\n",
       "      <td>aaron</td>\n",
       "      <td>1</td>\n",
       "    </tr>\n",
       "    <tr>\n",
       "      <th>5</th>\n",
       "      <td>aaron</td>\n",
       "      <td>0</td>\n",
       "    </tr>\n",
       "    <tr>\n",
       "      <th>6</th>\n",
       "      <td>aaron</td>\n",
       "      <td>1</td>\n",
       "    </tr>\n",
       "    <tr>\n",
       "      <th>7</th>\n",
       "      <td>ab</td>\n",
       "      <td>1</td>\n",
       "    </tr>\n",
       "    <tr>\n",
       "      <th>8</th>\n",
       "      <td>abagael</td>\n",
       "      <td>0</td>\n",
       "    </tr>\n",
       "    <tr>\n",
       "      <th>9</th>\n",
       "      <td>abagail</td>\n",
       "      <td>0</td>\n",
       "    </tr>\n",
       "  </tbody>\n",
       "</table>\n",
       "</div>"
      ],
      "text/plain": [
       "      name  sex\n",
       "0    aaden    1\n",
       "1  aaliyah    0\n",
       "2    aamir    1\n",
       "3    aarav    1\n",
       "4    aaron    1\n",
       "5    aaron    0\n",
       "6    aaron    1\n",
       "7       ab    1\n",
       "8  abagael    0\n",
       "9  abagail    0"
      ]
     },
     "execution_count": 4,
     "metadata": {},
     "output_type": "execute_result"
    }
   ],
   "source": [
    "# load the data\n",
    "df = pd.read_csv('unificado.csv')\n",
    "print(df.shape)\n",
    "df.head(10)"
   ]
  },
  {
   "cell_type": "code",
   "execution_count": null,
   "metadata": {},
   "outputs": [],
   "source": [
    "model = build_model()"
   ]
  },
  {
   "cell_type": "code",
   "execution_count": 6,
   "metadata": {},
   "outputs": [],
   "source": [
    "\n",
    "X = np.asarray(df['name'].values.tolist())\n",
    "Y = np.asarray(df['sex'].values.tolist())\n",
    "\n",
    "#Tranform names to numbers\n",
    "X = np.array([transform_string(val) for val in X])"
   ]
  },
  {
   "cell_type": "code",
   "execution_count": 7,
   "metadata": {},
   "outputs": [
    {
     "name": "stdout",
     "output_type": "stream",
     "text": [
      "Epoch 1/10\n",
      "25/25 [==============================] - 13s 359ms/step - loss: 0.6525 - accuracy: 0.6209\n",
      "Epoch 2/10\n",
      "25/25 [==============================] - 9s 356ms/step - loss: 0.5395 - accuracy: 0.7326\n",
      "Epoch 3/10\n",
      "25/25 [==============================] - 9s 356ms/step - loss: 0.4839 - accuracy: 0.7674\n",
      "Epoch 4/10\n",
      "25/25 [==============================] - 9s 358ms/step - loss: 0.4583 - accuracy: 0.7808\n",
      "Epoch 5/10\n",
      "25/25 [==============================] - 9s 361ms/step - loss: 0.4501 - accuracy: 0.7861\n",
      "Epoch 6/10\n",
      "25/25 [==============================] - 9s 357ms/step - loss: 0.4395 - accuracy: 0.7931\n",
      "Epoch 7/10\n",
      "25/25 [==============================] - 9s 357ms/step - loss: 0.4265 - accuracy: 0.8000\n",
      "Epoch 8/10\n",
      "25/25 [==============================] - 9s 358ms/step - loss: 0.4128 - accuracy: 0.8083\n",
      "Epoch 9/10\n",
      "25/25 [==============================] - 9s 358ms/step - loss: 0.4001 - accuracy: 0.8117\n",
      "Epoch 10/10\n",
      "25/25 [==============================] - 9s 359ms/step - loss: 0.3948 - accuracy: 0.8138\n"
     ]
    }
   ],
   "source": [
    "history = model.fit(x=X, y=Y, batch_size=500, epochs=10)\n",
    "model.save('model_v1.h5')"
   ]
  },
  {
   "cell_type": "code",
   "execution_count": 8,
   "metadata": {},
   "outputs": [
    {
     "name": "stdout",
     "output_type": "stream",
     "text": [
      "385/385 [==============================] - 5s 11ms/step - loss: 0.3659 - accuracy: 0.8322\n"
     ]
    },
    {
     "data": {
      "text/plain": [
       "[0.36593466997146606, 0.8321962356567383]"
      ]
     },
     "execution_count": 8,
     "metadata": {},
     "output_type": "execute_result"
    }
   ],
   "source": [
    "#evaluate model\n",
    "model.evaluate(X, Y)\n"
   ]
  },
  {
   "cell_type": "code",
   "execution_count": 9,
   "metadata": {},
   "outputs": [],
   "source": [
    "def predict(name, model_loaded):\n",
    "    data = np.array([transform_string(val) for val in name])\n",
    "    result = model_loaded.predict(data)\n",
    "    return ['m' if logit > 0.5 else 'f' for logit in result]\n"
   ]
  },
  {
   "cell_type": "code",
   "execution_count": 11,
   "metadata": {},
   "outputs": [
    {
     "name": "stdout",
     "output_type": "stream",
     "text": [
      "1/1 [==============================] - 0s 36ms/step\n",
      "['m', 'm', 'm', 'f', 'f']\n"
     ]
    }
   ],
   "source": [
    "test_data = ['Roberto', 'Stephen', 'Allan', 'Amanda', 'Carla']\n",
    "predictions = predict(test_data, model)\n",
    "print(predictions)\n"
   ]
  }
 ],
 "metadata": {
  "kernelspec": {
   "display_name": "Python 3.9.12 ('base')",
   "language": "python",
   "name": "python3"
  },
  "language_info": {
   "codemirror_mode": {
    "name": "ipython",
    "version": 3
   },
   "file_extension": ".py",
   "mimetype": "text/x-python",
   "name": "python",
   "nbconvert_exporter": "python",
   "pygments_lexer": "ipython3",
   "version": "3.9.12"
  },
  "orig_nbformat": 4,
  "vscode": {
   "interpreter": {
    "hash": "9aed451c744d1ebe20ab8a3ebb67baaa0895c2d5e19779b491b1cbd4628d0352"
   }
  }
 },
 "nbformat": 4,
 "nbformat_minor": 2
}
