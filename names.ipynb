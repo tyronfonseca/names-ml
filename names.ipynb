{
  "cells": [
    {
      "cell_type": "markdown",
      "metadata": {
        "id": "6r81a07wnByH"
      },
      "source": [
        "### First steps\n",
        "We create some functions to parse the data and declare some constants that would be useful"
      ]
    },
    {
      "cell_type": "code",
      "execution_count": 1,
      "metadata": {
        "id": "_MOsH1-LnByO"
      },
      "outputs": [],
      "source": [
        "# Constants\n",
        "max_length_name = 15\n",
        "\n",
        "# function to convert a string to a list of ascii values\n",
        "def transform_string(string):\n",
        "   string = string.lower()\n",
        "   ascii_list = [ord(c) for c in string]\n",
        "   list_ = ascii_list + [0] * (max_length_name - len(ascii_list))\n",
        "   return np.array(list_).astype(np.float32)\n"
      ]
    },
    {
      "cell_type": "markdown",
      "metadata": {
        "id": "M6oIQWuWnByS"
      },
      "source": [
        "### Load libraries/API's"
      ]
    },
    {
      "cell_type": "code",
      "execution_count": 2,
      "metadata": {
        "id": "P6cPi_NnnByT"
      },
      "outputs": [],
      "source": [
        "from tensorflow.keras import Sequential\n",
        "from tensorflow.keras.layers import Embedding, Bidirectional, LSTM, Dense\n",
        "from tensorflow.keras.optimizers import Adam\n",
        "from sklearn.model_selection import train_test_split\n",
        "import numpy as np\n",
        "import pandas as pd\n"
      ]
    },
    {
      "cell_type": "markdown",
      "metadata": {
        "id": "G6N46ozxnByU"
      },
      "source": [
        "### Build Model"
      ]
    },
    {
      "cell_type": "code",
      "execution_count": 3,
      "metadata": {
        "id": "CkLVH2s2nByX"
      },
      "outputs": [],
      "source": [
        "def build_model(vocab_size=128, embedding_dim=28, rnn_units=128):\n",
        "    ''' Build a model with an embedding layer, bidirectional LSTM layer, and a dense layer.\n",
        "        vocab_size: number of words in the vocabulary\n",
        "        embedding_dim: dimension of the embedding vectors\n",
        "        rnn_units: number of units in the RNN\n",
        "    '''\n",
        "    #build NN See. https://blog.paperspace.com/bidirectional-rnn-keras/\n",
        "    #  https://towardsdatascience.com/boy-or-girl-a-machine-learning-web-app-to-detect-gender-from-name-16dc0331716c\n",
        "\n",
        "    model = Sequential()\n",
        "    model.add(Embedding(vocab_size, embedding_dim, input_length=max_length_name))\n",
        "    model.add(Bidirectional(LSTM(rnn_units, recurrent_dropout=0.2, dropout=0.2)))\n",
        "    model.add(Dense(1, activation='sigmoid'))\n",
        "\n",
        "    #Compile\n",
        "    model.compile(loss='binary_crossentropy', optimizer=Adam(\n",
        "        learning_rate=0.01), metrics=['accuracy'])\n",
        "\n",
        "    return model\n"
      ]
    },
    {
      "cell_type": "markdown",
      "metadata": {
        "id": "P1w5mK0MnByY"
      },
      "source": [
        "### Train the model"
      ]
    },
    {
      "cell_type": "code",
      "execution_count": 4,
      "metadata": {
        "colab": {
          "base_uri": "https://localhost:8080/",
          "height": 381
        },
        "id": "eUl5bYqGnByZ",
        "outputId": "721cf145-e4b9-4ee1-87bf-3020e5d2b62e"
      },
      "outputs": [
        {
          "name": "stdout",
          "output_type": "stream",
          "text": [
            "(11741, 2)\n"
          ]
        },
        {
          "data": {
            "text/html": [
              "\n",
              "  <div id=\"df-126cb022-53b0-4add-9020-c5ee4fef4818\">\n",
              "    <div class=\"colab-df-container\">\n",
              "      <div>\n",
              "<style scoped>\n",
              "    .dataframe tbody tr th:only-of-type {\n",
              "        vertical-align: middle;\n",
              "    }\n",
              "\n",
              "    .dataframe tbody tr th {\n",
              "        vertical-align: top;\n",
              "    }\n",
              "\n",
              "    .dataframe thead th {\n",
              "        text-align: right;\n",
              "    }\n",
              "</style>\n",
              "<table border=\"1\" class=\"dataframe\">\n",
              "  <thead>\n",
              "    <tr style=\"text-align: right;\">\n",
              "      <th></th>\n",
              "      <th>name</th>\n",
              "      <th>sex</th>\n",
              "    </tr>\n",
              "  </thead>\n",
              "  <tbody>\n",
              "    <tr>\n",
              "      <th>0</th>\n",
              "      <td>sammie</td>\n",
              "      <td>1</td>\n",
              "    </tr>\n",
              "    <tr>\n",
              "      <th>1</th>\n",
              "      <td>bradford</td>\n",
              "      <td>1</td>\n",
              "    </tr>\n",
              "    <tr>\n",
              "      <th>2</th>\n",
              "      <td>clarine</td>\n",
              "      <td>0</td>\n",
              "    </tr>\n",
              "    <tr>\n",
              "      <th>3</th>\n",
              "      <td>elyse</td>\n",
              "      <td>0</td>\n",
              "    </tr>\n",
              "    <tr>\n",
              "      <th>4</th>\n",
              "      <td>devaughn</td>\n",
              "      <td>1</td>\n",
              "    </tr>\n",
              "    <tr>\n",
              "      <th>5</th>\n",
              "      <td>howard</td>\n",
              "      <td>0</td>\n",
              "    </tr>\n",
              "    <tr>\n",
              "      <th>6</th>\n",
              "      <td>irena</td>\n",
              "      <td>0</td>\n",
              "    </tr>\n",
              "    <tr>\n",
              "      <th>7</th>\n",
              "      <td>hector</td>\n",
              "      <td>1</td>\n",
              "    </tr>\n",
              "    <tr>\n",
              "      <th>8</th>\n",
              "      <td>suzette</td>\n",
              "      <td>0</td>\n",
              "    </tr>\n",
              "    <tr>\n",
              "      <th>9</th>\n",
              "      <td>janene</td>\n",
              "      <td>0</td>\n",
              "    </tr>\n",
              "  </tbody>\n",
              "</table>\n",
              "</div>\n",
              "      <button class=\"colab-df-convert\" onclick=\"convertToInteractive('df-126cb022-53b0-4add-9020-c5ee4fef4818')\"\n",
              "              title=\"Convert this dataframe to an interactive table.\"\n",
              "              style=\"display:none;\">\n",
              "        \n",
              "  <svg xmlns=\"http://www.w3.org/2000/svg\" height=\"24px\"viewBox=\"0 0 24 24\"\n",
              "       width=\"24px\">\n",
              "    <path d=\"M0 0h24v24H0V0z\" fill=\"none\"/>\n",
              "    <path d=\"M18.56 5.44l.94 2.06.94-2.06 2.06-.94-2.06-.94-.94-2.06-.94 2.06-2.06.94zm-11 1L8.5 8.5l.94-2.06 2.06-.94-2.06-.94L8.5 2.5l-.94 2.06-2.06.94zm10 10l.94 2.06.94-2.06 2.06-.94-2.06-.94-.94-2.06-.94 2.06-2.06.94z\"/><path d=\"M17.41 7.96l-1.37-1.37c-.4-.4-.92-.59-1.43-.59-.52 0-1.04.2-1.43.59L10.3 9.45l-7.72 7.72c-.78.78-.78 2.05 0 2.83L4 21.41c.39.39.9.59 1.41.59.51 0 1.02-.2 1.41-.59l7.78-7.78 2.81-2.81c.8-.78.8-2.07 0-2.86zM5.41 20L4 18.59l7.72-7.72 1.47 1.35L5.41 20z\"/>\n",
              "  </svg>\n",
              "      </button>\n",
              "      \n",
              "  <style>\n",
              "    .colab-df-container {\n",
              "      display:flex;\n",
              "      flex-wrap:wrap;\n",
              "      gap: 12px;\n",
              "    }\n",
              "\n",
              "    .colab-df-convert {\n",
              "      background-color: #E8F0FE;\n",
              "      border: none;\n",
              "      border-radius: 50%;\n",
              "      cursor: pointer;\n",
              "      display: none;\n",
              "      fill: #1967D2;\n",
              "      height: 32px;\n",
              "      padding: 0 0 0 0;\n",
              "      width: 32px;\n",
              "    }\n",
              "\n",
              "    .colab-df-convert:hover {\n",
              "      background-color: #E2EBFA;\n",
              "      box-shadow: 0px 1px 2px rgba(60, 64, 67, 0.3), 0px 1px 3px 1px rgba(60, 64, 67, 0.15);\n",
              "      fill: #174EA6;\n",
              "    }\n",
              "\n",
              "    [theme=dark] .colab-df-convert {\n",
              "      background-color: #3B4455;\n",
              "      fill: #D2E3FC;\n",
              "    }\n",
              "\n",
              "    [theme=dark] .colab-df-convert:hover {\n",
              "      background-color: #434B5C;\n",
              "      box-shadow: 0px 1px 3px 1px rgba(0, 0, 0, 0.15);\n",
              "      filter: drop-shadow(0px 1px 2px rgba(0, 0, 0, 0.3));\n",
              "      fill: #FFFFFF;\n",
              "    }\n",
              "  </style>\n",
              "\n",
              "      <script>\n",
              "        const buttonEl =\n",
              "          document.querySelector('#df-126cb022-53b0-4add-9020-c5ee4fef4818 button.colab-df-convert');\n",
              "        buttonEl.style.display =\n",
              "          google.colab.kernel.accessAllowed ? 'block' : 'none';\n",
              "\n",
              "        async function convertToInteractive(key) {\n",
              "          const element = document.querySelector('#df-126cb022-53b0-4add-9020-c5ee4fef4818');\n",
              "          const dataTable =\n",
              "            await google.colab.kernel.invokeFunction('convertToInteractive',\n",
              "                                                     [key], {});\n",
              "          if (!dataTable) return;\n",
              "\n",
              "          const docLinkHtml = 'Like what you see? Visit the ' +\n",
              "            '<a target=\"_blank\" href=https://colab.research.google.com/notebooks/data_table.ipynb>data table notebook</a>'\n",
              "            + ' to learn more about interactive tables.';\n",
              "          element.innerHTML = '';\n",
              "          dataTable['output_type'] = 'display_data';\n",
              "          await google.colab.output.renderOutput(dataTable, element);\n",
              "          const docLink = document.createElement('div');\n",
              "          docLink.innerHTML = docLinkHtml;\n",
              "          element.appendChild(docLink);\n",
              "        }\n",
              "      </script>\n",
              "    </div>\n",
              "  </div>\n",
              "  "
            ],
            "text/plain": [
              "       name  sex\n",
              "0    sammie    1\n",
              "1  bradford    1\n",
              "2   clarine    0\n",
              "3     elyse    0\n",
              "4  devaughn    1\n",
              "5    howard    0\n",
              "6     irena    0\n",
              "7    hector    1\n",
              "8   suzette    0\n",
              "9    janene    0"
            ]
          },
          "execution_count": 4,
          "metadata": {},
          "output_type": "execute_result"
        }
      ],
      "source": [
        "# load the data\n",
        "df = pd.read_csv('unificado-clean.csv')\n",
        "df = df.sample(frac=1, random_state=42).reset_index(drop=True)\n",
        "print(df.shape)\n",
        "df.head(10)"
      ]
    },
    {
      "cell_type": "markdown",
      "metadata": {},
      "source": [
        "### Make the proportion equal 50/250"
      ]
    },
    {
      "cell_type": "code",
      "execution_count": 5,
      "metadata": {
        "colab": {
          "base_uri": "https://localhost:8080/"
        },
        "id": "5GQJDCCA1lkg",
        "outputId": "be514bd2-bb50-4100-c817-fd71255a9705"
      },
      "outputs": [
        {
          "name": "stdout",
          "output_type": "stream",
          "text": [
            "Males count: 4850\n",
            "Females count: 6891\n",
            "Males count: 4850\n",
            "Females count: 4850\n"
          ]
        }
      ],
      "source": [
        "print(\"Males count: \"+str(np.sum(df['sex']> 0)))\n",
        "print(\"Females count: \"+str(np.sum(df['sex'] < 1)))\n",
        "\n",
        "df = df.drop(df[df['sex'] < 1].sample(2041).index)\n",
        "\n",
        "print(\"Males count: \"+str(np.sum(df['sex']> 0)))\n",
        "print(\"Females count: \"+str(np.sum(df['sex'] < 1)))"
      ]
    },
    {
      "cell_type": "code",
      "execution_count": 6,
      "metadata": {
        "id": "F1-0Udw-nByb"
      },
      "outputs": [],
      "source": [
        "model = build_model()"
      ]
    },
    {
      "cell_type": "code",
      "execution_count": 7,
      "metadata": {
        "id": "gOraBmainByd"
      },
      "outputs": [],
      "source": [
        "\n",
        "X = np.asarray(df['name'].values.tolist())\n",
        "Y = np.asarray(df['sex'].values.tolist())\n",
        "\n",
        "#Tranform names to numbers\n",
        "X = np.array([transform_string(val) for val in X])"
      ]
    },
    {
      "cell_type": "code",
      "execution_count": 8,
      "metadata": {
        "colab": {
          "base_uri": "https://localhost:8080/"
        },
        "id": "Pn54kxjvnBye",
        "outputId": "754d3778-8eb4-4633-8e6b-562cd99c421b"
      },
      "outputs": [
        {
          "name": "stdout",
          "output_type": "stream",
          "text": [
            "Epoch 1/100\n",
            "10/10 [==============================] - 21s 686ms/step - loss: 0.6877 - accuracy: 0.5385\n",
            "Epoch 2/100\n",
            "10/10 [==============================] - 7s 684ms/step - loss: 0.6352 - accuracy: 0.6445\n",
            "Epoch 3/100\n",
            "10/10 [==============================] - 7s 682ms/step - loss: 0.5673 - accuracy: 0.7140\n",
            "Epoch 4/100\n",
            "10/10 [==============================] - 7s 701ms/step - loss: 0.5495 - accuracy: 0.7273\n",
            "Epoch 5/100\n",
            "10/10 [==============================] - 7s 698ms/step - loss: 0.5401 - accuracy: 0.7320\n",
            "Epoch 6/100\n",
            "10/10 [==============================] - 7s 687ms/step - loss: 0.5217 - accuracy: 0.7459\n",
            "Epoch 7/100\n",
            "10/10 [==============================] - 7s 675ms/step - loss: 0.5102 - accuracy: 0.7558\n",
            "Epoch 8/100\n",
            "10/10 [==============================] - 7s 686ms/step - loss: 0.5022 - accuracy: 0.7586\n",
            "Epoch 9/100\n",
            "10/10 [==============================] - 7s 686ms/step - loss: 0.4912 - accuracy: 0.7638\n",
            "Epoch 10/100\n",
            "10/10 [==============================] - 7s 689ms/step - loss: 0.4822 - accuracy: 0.7755\n",
            "Epoch 11/100\n",
            "10/10 [==============================] - 7s 705ms/step - loss: 0.4717 - accuracy: 0.7789\n",
            "Epoch 12/100\n",
            "10/10 [==============================] - 7s 700ms/step - loss: 0.4639 - accuracy: 0.7872\n",
            "Epoch 13/100\n",
            "10/10 [==============================] - 8s 843ms/step - loss: 0.4616 - accuracy: 0.7856\n",
            "Epoch 14/100\n",
            "10/10 [==============================] - 7s 703ms/step - loss: 0.4594 - accuracy: 0.7887\n",
            "Epoch 15/100\n",
            "10/10 [==============================] - 7s 715ms/step - loss: 0.4537 - accuracy: 0.7915\n",
            "Epoch 16/100\n",
            "10/10 [==============================] - 7s 702ms/step - loss: 0.4519 - accuracy: 0.7892\n",
            "Epoch 17/100\n",
            "10/10 [==============================] - 8s 814ms/step - loss: 0.4468 - accuracy: 0.7912\n",
            "Epoch 18/100\n",
            "10/10 [==============================] - 7s 677ms/step - loss: 0.4444 - accuracy: 0.7921\n",
            "Epoch 19/100\n",
            "10/10 [==============================] - 7s 684ms/step - loss: 0.4443 - accuracy: 0.7957\n",
            "Epoch 20/100\n",
            "10/10 [==============================] - 7s 672ms/step - loss: 0.4410 - accuracy: 0.7958\n",
            "Epoch 21/100\n",
            "10/10 [==============================] - 7s 686ms/step - loss: 0.4332 - accuracy: 0.8020\n",
            "Epoch 22/100\n",
            "10/10 [==============================] - 7s 675ms/step - loss: 0.4327 - accuracy: 0.7968\n",
            "Epoch 23/100\n",
            "10/10 [==============================] - 7s 679ms/step - loss: 0.4226 - accuracy: 0.8045\n",
            "Epoch 24/100\n",
            "10/10 [==============================] - 7s 676ms/step - loss: 0.4208 - accuracy: 0.8055\n",
            "Epoch 25/100\n",
            "10/10 [==============================] - 7s 688ms/step - loss: 0.4111 - accuracy: 0.8096\n",
            "Epoch 26/100\n",
            "10/10 [==============================] - 7s 687ms/step - loss: 0.4081 - accuracy: 0.8137\n",
            "Epoch 27/100\n",
            "10/10 [==============================] - 7s 676ms/step - loss: 0.4044 - accuracy: 0.8121\n",
            "Epoch 28/100\n",
            "10/10 [==============================] - 7s 686ms/step - loss: 0.4010 - accuracy: 0.8158\n",
            "Epoch 29/100\n",
            "10/10 [==============================] - 7s 691ms/step - loss: 0.3925 - accuracy: 0.8199\n",
            "Epoch 30/100\n",
            "10/10 [==============================] - 7s 689ms/step - loss: 0.3876 - accuracy: 0.8199\n",
            "Epoch 31/100\n",
            "10/10 [==============================] - 7s 695ms/step - loss: 0.3838 - accuracy: 0.8246\n",
            "Epoch 32/100\n",
            "10/10 [==============================] - 8s 732ms/step - loss: 0.3768 - accuracy: 0.8289\n",
            "Epoch 33/100\n",
            "10/10 [==============================] - 7s 685ms/step - loss: 0.3730 - accuracy: 0.8267\n",
            "Epoch 34/100\n",
            "10/10 [==============================] - 7s 683ms/step - loss: 0.3692 - accuracy: 0.8311\n",
            "Epoch 35/100\n",
            "10/10 [==============================] - 7s 681ms/step - loss: 0.3629 - accuracy: 0.8369\n",
            "Epoch 36/100\n",
            "10/10 [==============================] - 7s 684ms/step - loss: 0.3614 - accuracy: 0.8360\n",
            "Epoch 37/100\n",
            "10/10 [==============================] - 7s 683ms/step - loss: 0.3586 - accuracy: 0.8394\n",
            "Epoch 38/100\n",
            "10/10 [==============================] - 7s 679ms/step - loss: 0.3514 - accuracy: 0.8395\n",
            "Epoch 39/100\n",
            "10/10 [==============================] - 7s 674ms/step - loss: 0.3489 - accuracy: 0.8403\n",
            "Epoch 40/100\n",
            "10/10 [==============================] - 7s 683ms/step - loss: 0.3382 - accuracy: 0.8474\n",
            "Epoch 41/100\n",
            "10/10 [==============================] - 7s 684ms/step - loss: 0.3365 - accuracy: 0.8465\n",
            "Epoch 42/100\n",
            "10/10 [==============================] - 7s 673ms/step - loss: 0.3293 - accuracy: 0.8503\n",
            "Epoch 43/100\n",
            "10/10 [==============================] - 7s 667ms/step - loss: 0.3262 - accuracy: 0.8522\n",
            "Epoch 44/100\n",
            "10/10 [==============================] - 7s 673ms/step - loss: 0.3311 - accuracy: 0.8493\n",
            "Epoch 45/100\n",
            "10/10 [==============================] - 7s 681ms/step - loss: 0.3178 - accuracy: 0.8578\n",
            "Epoch 46/100\n",
            "10/10 [==============================] - 7s 677ms/step - loss: 0.3225 - accuracy: 0.8541\n",
            "Epoch 47/100\n",
            "10/10 [==============================] - 7s 684ms/step - loss: 0.3115 - accuracy: 0.8582\n",
            "Epoch 48/100\n",
            "10/10 [==============================] - 7s 676ms/step - loss: 0.3086 - accuracy: 0.8584\n",
            "Epoch 49/100\n",
            "10/10 [==============================] - 7s 666ms/step - loss: 0.3074 - accuracy: 0.8597\n",
            "Epoch 50/100\n",
            "10/10 [==============================] - 7s 680ms/step - loss: 0.3006 - accuracy: 0.8626\n",
            "Epoch 51/100\n",
            "10/10 [==============================] - 7s 683ms/step - loss: 0.3011 - accuracy: 0.8645\n",
            "Epoch 52/100\n",
            "10/10 [==============================] - 7s 681ms/step - loss: 0.3002 - accuracy: 0.8598\n",
            "Epoch 53/100\n",
            "10/10 [==============================] - 7s 677ms/step - loss: 0.2957 - accuracy: 0.8643\n",
            "Epoch 54/100\n",
            "10/10 [==============================] - 7s 677ms/step - loss: 0.2893 - accuracy: 0.8693\n",
            "Epoch 55/100\n",
            "10/10 [==============================] - 7s 673ms/step - loss: 0.2901 - accuracy: 0.8693\n",
            "Epoch 56/100\n",
            "10/10 [==============================] - 7s 682ms/step - loss: 0.2851 - accuracy: 0.8679\n",
            "Epoch 57/100\n",
            "10/10 [==============================] - 7s 675ms/step - loss: 0.2804 - accuracy: 0.8733\n",
            "Epoch 58/100\n",
            "10/10 [==============================] - 7s 678ms/step - loss: 0.2722 - accuracy: 0.8769\n",
            "Epoch 59/100\n",
            "10/10 [==============================] - 7s 675ms/step - loss: 0.2687 - accuracy: 0.8786\n",
            "Epoch 60/100\n",
            "10/10 [==============================] - 7s 681ms/step - loss: 0.2742 - accuracy: 0.8785\n",
            "Epoch 61/100\n",
            "10/10 [==============================] - 7s 677ms/step - loss: 0.2755 - accuracy: 0.8737\n",
            "Epoch 62/100\n",
            "10/10 [==============================] - 7s 674ms/step - loss: 0.2734 - accuracy: 0.8767\n",
            "Epoch 63/100\n",
            "10/10 [==============================] - 7s 680ms/step - loss: 0.2687 - accuracy: 0.8778\n",
            "Epoch 64/100\n",
            "10/10 [==============================] - 7s 688ms/step - loss: 0.2676 - accuracy: 0.8782\n",
            "Epoch 65/100\n",
            "10/10 [==============================] - 7s 679ms/step - loss: 0.2587 - accuracy: 0.8816\n",
            "Epoch 66/100\n",
            "10/10 [==============================] - 7s 675ms/step - loss: 0.2622 - accuracy: 0.8797\n",
            "Epoch 67/100\n",
            "10/10 [==============================] - 7s 683ms/step - loss: 0.2564 - accuracy: 0.8848\n",
            "Epoch 68/100\n",
            "10/10 [==============================] - 7s 673ms/step - loss: 0.2539 - accuracy: 0.8857\n",
            "Epoch 69/100\n",
            "10/10 [==============================] - 7s 678ms/step - loss: 0.2625 - accuracy: 0.8837\n",
            "Epoch 70/100\n",
            "10/10 [==============================] - 8s 799ms/step - loss: 0.2554 - accuracy: 0.8841\n",
            "Epoch 71/100\n",
            "10/10 [==============================] - 7s 673ms/step - loss: 0.2492 - accuracy: 0.8866\n",
            "Epoch 72/100\n",
            "10/10 [==============================] - 7s 682ms/step - loss: 0.2521 - accuracy: 0.8881\n",
            "Epoch 73/100\n",
            "10/10 [==============================] - 7s 683ms/step - loss: 0.2506 - accuracy: 0.8849\n",
            "Epoch 74/100\n",
            "10/10 [==============================] - 7s 679ms/step - loss: 0.2537 - accuracy: 0.8853\n",
            "Epoch 75/100\n",
            "10/10 [==============================] - 7s 686ms/step - loss: 0.2528 - accuracy: 0.8840\n",
            "Epoch 76/100\n",
            "10/10 [==============================] - 7s 672ms/step - loss: 0.2444 - accuracy: 0.8870\n",
            "Epoch 77/100\n",
            "10/10 [==============================] - 7s 670ms/step - loss: 0.2449 - accuracy: 0.8887\n",
            "Epoch 78/100\n",
            "10/10 [==============================] - 7s 674ms/step - loss: 0.2408 - accuracy: 0.8918\n",
            "Epoch 79/100\n",
            "10/10 [==============================] - 7s 675ms/step - loss: 0.2440 - accuracy: 0.8887\n",
            "Epoch 80/100\n",
            "10/10 [==============================] - 7s 691ms/step - loss: 0.2395 - accuracy: 0.8897\n",
            "Epoch 81/100\n",
            "10/10 [==============================] - 7s 681ms/step - loss: 0.2373 - accuracy: 0.8901\n",
            "Epoch 82/100\n",
            "10/10 [==============================] - 7s 673ms/step - loss: 0.2422 - accuracy: 0.8884\n",
            "Epoch 83/100\n",
            "10/10 [==============================] - 7s 673ms/step - loss: 0.2396 - accuracy: 0.8877\n",
            "Epoch 84/100\n",
            "10/10 [==============================] - 7s 672ms/step - loss: 0.2359 - accuracy: 0.8928\n",
            "Epoch 85/100\n",
            "10/10 [==============================] - 8s 801ms/step - loss: 0.2343 - accuracy: 0.8942\n",
            "Epoch 86/100\n",
            "10/10 [==============================] - 7s 667ms/step - loss: 0.2373 - accuracy: 0.8958\n",
            "Epoch 87/100\n",
            "10/10 [==============================] - 7s 668ms/step - loss: 0.2366 - accuracy: 0.8911\n",
            "Epoch 88/100\n",
            "10/10 [==============================] - 7s 675ms/step - loss: 0.2320 - accuracy: 0.8946\n",
            "Epoch 89/100\n",
            "10/10 [==============================] - 7s 674ms/step - loss: 0.2297 - accuracy: 0.8959\n",
            "Epoch 90/100\n",
            "10/10 [==============================] - 7s 667ms/step - loss: 0.2327 - accuracy: 0.8924\n",
            "Epoch 91/100\n",
            "10/10 [==============================] - 7s 665ms/step - loss: 0.2289 - accuracy: 0.8971\n",
            "Epoch 92/100\n",
            "10/10 [==============================] - 7s 672ms/step - loss: 0.2291 - accuracy: 0.8977\n",
            "Epoch 93/100\n",
            "10/10 [==============================] - 7s 682ms/step - loss: 0.2269 - accuracy: 0.8976\n",
            "Epoch 94/100\n",
            "10/10 [==============================] - 7s 681ms/step - loss: 0.2255 - accuracy: 0.8981\n",
            "Epoch 95/100\n",
            "10/10 [==============================] - 7s 672ms/step - loss: 0.2242 - accuracy: 0.8995\n",
            "Epoch 96/100\n",
            "10/10 [==============================] - 7s 684ms/step - loss: 0.2208 - accuracy: 0.9029\n",
            "Epoch 97/100\n",
            "10/10 [==============================] - 7s 678ms/step - loss: 0.2285 - accuracy: 0.8941\n",
            "Epoch 98/100\n",
            "10/10 [==============================] - 7s 667ms/step - loss: 0.2311 - accuracy: 0.8933\n",
            "Epoch 99/100\n",
            "10/10 [==============================] - 7s 674ms/step - loss: 0.2291 - accuracy: 0.8988\n",
            "Epoch 100/100\n",
            "10/10 [==============================] - 8s 797ms/step - loss: 0.2244 - accuracy: 0.8998\n"
          ]
        }
      ],
      "source": [
        "history = model.fit(x=X, y=Y, batch_size=1024, epochs=100)\n",
        "model.save('model_v1.h5')"
      ]
    },
    {
      "cell_type": "code",
      "execution_count": 9,
      "metadata": {
        "colab": {
          "base_uri": "https://localhost:8080/"
        },
        "id": "pkD-Y37unByg",
        "outputId": "66b9e36f-9fcd-4b39-a5f4-88f5ae5739ca"
      },
      "outputs": [
        {
          "name": "stdout",
          "output_type": "stream",
          "text": [
            "304/304 [==============================] - 4s 11ms/step - loss: 0.1435 - accuracy: 0.9287\n"
          ]
        },
        {
          "data": {
            "text/plain": [
              "[0.14348705112934113, 0.9286597967147827]"
            ]
          },
          "execution_count": 9,
          "metadata": {},
          "output_type": "execute_result"
        }
      ],
      "source": [
        "#evaluate model\n",
        "model.evaluate(X, Y)\n"
      ]
    },
    {
      "cell_type": "code",
      "execution_count": 10,
      "metadata": {
        "id": "v3I-pMMOnByi"
      },
      "outputs": [],
      "source": [
        "def predict(name, model_loaded):\n",
        "    data = np.array([transform_string(val) for val in name])\n",
        "    result = model_loaded.predict(data)\n",
        "    return ['m' if logit > 0.5 else 'f' for logit in result], [logit[0] for logit in result]\n"
      ]
    },
    {
      "cell_type": "code",
      "execution_count": 11,
      "metadata": {
        "colab": {
          "base_uri": "https://localhost:8080/"
        },
        "id": "jhH2b2IOnByj",
        "outputId": "89585e3a-bf06-4112-ebcd-4f9af6a8d509"
      },
      "outputs": [
        {
          "name": "stdout",
          "output_type": "stream",
          "text": [
            "['m', 'm', 'm', 'm', 'f']\n",
            "[0.9933263, 0.9979049, 0.9899413, 0.690429, 0.08760598]\n"
          ]
        }
      ],
      "source": [
        "test_data = ['Roberto', 'Stephen', 'Allan', 'Amanda', 'beca']\n",
        "predictions, logit = predict(test_data, model)\n",
        "print(predictions)\n",
        "print(logit)"
      ]
    },
    {
      "cell_type": "markdown",
      "metadata": {},
      "source": [
        "See the confusion matrix"
      ]
    },
    {
      "cell_type": "code",
      "execution_count": 12,
      "metadata": {
        "colab": {
          "base_uri": "https://localhost:8080/",
          "height": 300
        },
        "id": "aEJ6owRnnFZT",
        "outputId": "d4eefc7d-6346-4ef7-c7b9-8ecfda517acf"
      },
      "outputs": [
        {
          "data": {
            "text/plain": [
              "<Figure size 1080x720 with 0 Axes>"
            ]
          },
          "metadata": {},
          "output_type": "display_data"
        },
        {
          "data": {
            "image/png": "[encoded data removed]",
            "text/plain": [
              "<Figure size 432x288 with 2 Axes>"
            ]
          },
          "metadata": {
            "needs_background": "light"
          },
          "output_type": "display_data"
        }
      ],
      "source": [
        "import matplotlib.pyplot as plt\n",
        "import numpy\n",
        "from sklearn import metrics\n",
        "\n",
        "\n",
        "x = np.asarray(df['name'].values.tolist())\n",
        "_, predicted = predict(x, model)\n",
        "confusion_matrix = metrics.confusion_matrix(Y, np.rint(predicted))\n",
        "\n",
        "cm_display = metrics.ConfusionMatrixDisplay(confusion_matrix = confusion_matrix, display_labels = ['f', 'm'])\n",
        "plt.figure(figsize=(15, 10))\n",
        "cm_display.plot()\n",
        "plt.show()"
      ]
    }
  ],
  "metadata": {
    "colab": {
      "name": "names.ipynb",
      "provenance": []
    },
    "kernelspec": {
      "display_name": "Python 3.9.7 ('base')",
      "language": "python",
      "name": "python3"
    },
    "language_info": {
      "codemirror_mode": {
        "name": "ipython",
        "version": 3
      },
      "file_extension": ".py",
      "mimetype": "text/x-python",
      "name": "python",
      "nbconvert_exporter": "python",
      "pygments_lexer": "ipython3",
      "version": "3.9.7"
    },
    "orig_nbformat": 4,
    "vscode": {
      "interpreter": {
        "hash": "3130a17c87577aaeb4f5cfb4d14f867bb781d9b1359add0d22593ecc511924f1"
      }
    }
  },
  "nbformat": 4,
  "nbformat_minor": 0
}
