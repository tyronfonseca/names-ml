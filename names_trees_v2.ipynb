{
  "cells": [
    {
      "cell_type": "markdown",
      "metadata": {
        "id": "Q5u-Ql4sM8-G"
      },
      "source": [
        "# Sex by name using decision trees and random forest\n"
      ]
    },
    {
      "cell_type": "markdown",
      "metadata": {
        "id": "U1oT9A6ADWmM"
      },
      "source": [
        "## Load data, libraries and functions"
      ]
    },
    {
      "cell_type": "code",
      "execution_count": 1,
      "metadata": {
        "id": "qu0pmII5M8-I"
      },
      "outputs": [],
      "source": [
        "# Import libraries\n",
        "import numpy as np\n",
        "import pandas as pd\n",
        "from sklearn.tree import DecisionTreeClassifier\n",
        "from sklearn.model_selection import train_test_split\n",
        "from sklearn.ensemble import RandomForestClassifier\n",
        "from sklearn.metrics import accuracy_score"
      ]
    },
    {
      "cell_type": "code",
      "execution_count": 2,
      "metadata": {
        "id": "2G6GODe1M8-K"
      },
      "outputs": [],
      "source": [
        "# Constants\n",
        "max_length_name = 20\n",
        "\n",
        "# function to convert a string to a list of ascii values\n",
        "def transform_string(string):\n",
        "   string = string.lower()\n",
        "   ascii_list = [ord(c) for c in string]\n",
        "   list_ = ascii_list + [0] * (max_length_name - len(ascii_list))\n",
        "   return np.array(list_).astype(np.float32)"
      ]
    },
    {
      "cell_type": "code",
      "execution_count": 3,
      "metadata": {
        "colab": {
          "base_uri": "https://localhost:8080/"
        },
        "id": "wwd590fiM8-L",
        "outputId": "b2741ca7-6292-4625-c0e9-5536673db218"
      },
      "outputs": [
        {
          "name": "stdout",
          "output_type": "stream",
          "text": [
            "       name  sex\n",
            "0    sammie    1\n",
            "1  bradford    1\n",
            "2   clarine    0\n",
            "3     elyse    0\n",
            "4  devaughn    1\n",
            "<class 'pandas.core.frame.DataFrame'>\n",
            "RangeIndex: 11741 entries, 0 to 11740\n",
            "Data columns (total 2 columns):\n",
            " #   Column  Non-Null Count  Dtype \n",
            "---  ------  --------------  ----- \n",
            " 0   name    11740 non-null  object\n",
            " 1   sex     11741 non-null  int64 \n",
            "dtypes: int64(1), object(1)\n",
            "memory usage: 183.6+ KB\n",
            "None\n"
          ]
        }
      ],
      "source": [
        "#load data\n",
        "names = pd.read_csv('unificado-clean.csv')\n",
        "names = names.sample(frac=1, random_state=42).reset_index(drop=True)\n",
        "#explore data\n",
        "print(names.head())\n",
        "print(names.info())"
      ]
    },
    {
      "cell_type": "code",
      "execution_count": 4,
      "metadata": {
        "id": "yyFSIcdpM8-M"
      },
      "outputs": [],
      "source": [
        "# create X and y\n",
        "X = np.asarray(names['name'].values.tolist())\n",
        "y = np.asarray(names['sex'].values.tolist())\n",
        "\n",
        "X = np.array([transform_string(val) for val in X])\n",
        "\n",
        "X_train, X_test, y_train, y_test = train_test_split(X, y, test_size=0.25, random_state=42)"
      ]
    },
    {
      "cell_type": "code",
      "execution_count": 5,
      "metadata": {
        "id": "NLVtNmUsM8-N"
      },
      "outputs": [],
      "source": [
        "def predict(name, model_loaded):\n",
        "    data = np.array([transform_string(val) for val in name])\n",
        "    result = model_loaded.predict(data)\n",
        "    return ['m' if logit > 0.5 else 'f' for logit in result]"
      ]
    },
    {
      "cell_type": "code",
      "execution_count": 6,
      "metadata": {
        "id": "pbeSbplyM8-N"
      },
      "outputs": [],
      "source": [
        "import matplotlib.pyplot as plt\n",
        "import numpy\n",
        "from sklearn import metrics\n",
        "\n",
        "def show_confusion_matrix(model, X, y):\n",
        "    prediction = model.predict(X)\n",
        "    confusion_matrix = metrics.confusion_matrix(y, prediction)\n",
        "\n",
        "    cm_display = metrics.ConfusionMatrixDisplay(confusion_matrix = confusion_matrix, display_labels = ['F', 'M'])\n",
        "\n",
        "    cm_display.plot()\n",
        "    plt.show()"
      ]
    },
    {
      "cell_type": "markdown",
      "metadata": {
        "id": "_cti6n5rM8-O"
      },
      "source": [
        "## Decision Trees"
      ]
    },
    {
      "cell_type": "code",
      "execution_count": 7,
      "metadata": {
        "id": "Um96FQaxM8-O"
      },
      "outputs": [],
      "source": [
        "tree_model = DecisionTreeClassifier(max_depth=15, max_features=20)\n",
        "history = tree_model.fit(X_train, y_train)"
      ]
    },
    {
      "cell_type": "code",
      "execution_count": 8,
      "metadata": {
        "colab": {
          "base_uri": "https://localhost:8080/"
        },
        "id": "_qJ_FUSXM8-P",
        "outputId": "7a6c27e6-461b-4eac-c428-1aafc20a056b"
      },
      "outputs": [
        {
          "name": "stdout",
          "output_type": "stream",
          "text": [
            "Accuracy of Decision Tree Model:  0.7009536784741145\n"
          ]
        }
      ],
      "source": [
        "tree_model_pred = tree_model.predict(X_test)\n",
        "print('Accuracy of Decision Tree Model: ', accuracy_score(y_test, tree_model_pred))"
      ]
    },
    {
      "cell_type": "code",
      "execution_count": 9,
      "metadata": {
        "colab": {
          "base_uri": "https://localhost:8080/",
          "height": 279
        },
        "id": "ZrODL7FJM8-P",
        "outputId": "3e0c4600-aa6e-444f-9c16-be985490fcfc"
      },
      "outputs": [
        {
          "data": {
            "image/png": "[encoded data removed]",
            "text/plain": [
              "<Figure size 432x288 with 2 Axes>"
            ]
          },
          "metadata": {
            "needs_background": "light"
          },
          "output_type": "display_data"
        }
      ],
      "source": [
        "show_confusion_matrix(tree_model, X, y)"
      ]
    },
    {
      "cell_type": "markdown",
      "metadata": {
        "id": "luRupWiaM8-Q"
      },
      "source": [
        "## Random Forest"
      ]
    },
    {
      "cell_type": "code",
      "execution_count": null,
      "metadata": {
        "id": "WiScU2YqM8-Q"
      },
      "outputs": [],
      "source": [
        "random_model = RandomForestClassifier(max_depth=15, max_features=20)\n",
        "history = random_model.fit(X_train, y_train)"
      ]
    },
    {
      "cell_type": "code",
      "execution_count": null,
      "metadata": {
        "colab": {
          "base_uri": "https://localhost:8080/"
        },
        "id": "lw9dpP9CM8-Q",
        "outputId": "1c7a5c28-d738-4bd1-e147-ab93df7d7660"
      },
      "outputs": [],
      "source": [
        "random_model_pred = random_model.predict(X_test)\n",
        "print('Accuracy of Random Forest Model: ', accuracy_score(y_test, random_model_pred))"
      ]
    },
    {
      "cell_type": "code",
      "execution_count": null,
      "metadata": {
        "colab": {
          "base_uri": "https://localhost:8080/",
          "height": 279
        },
        "id": "5KFJAZsGM8-Q",
        "outputId": "87576e0b-7216-4019-b237-193909a7242a"
      },
      "outputs": [],
      "source": [
        "show_confusion_matrix(random_model, X, y)"
      ]
    },
    {
      "cell_type": "markdown",
      "metadata": {
        "id": "0qyZvQEkM8-R"
      },
      "source": [
        "## Tuning hiperparameters"
      ]
    },
    {
      "cell_type": "code",
      "execution_count": 10,
      "metadata": {
        "id": "9brYH12ZM8-R"
      },
      "outputs": [],
      "source": [
        "from numpy import mean\n",
        "from numpy import std\n",
        "from sklearn.model_selection import KFold\n",
        "from sklearn.model_selection import GridSearchCV\n",
        "from sklearn.ensemble import RandomForestClassifier\n",
        "from sklearn.metrics import accuracy_score"
      ]
    },
    {
      "cell_type": "markdown",
      "metadata": {
        "id": "akpg9m-hM8-S"
      },
      "source": [
        "### Decision Trees"
      ]
    },
    {
      "cell_type": "code",
      "execution_count": 11,
      "metadata": {
        "colab": {
          "base_uri": "https://localhost:8080/"
        },
        "id": "_hxCdndkM8-S",
        "outputId": "ebcf673c-aacd-4f51-f44b-393d706a9840"
      },
      "outputs": [
        {
          "name": "stdout",
          "output_type": "stream",
          "text": [
            ">acc=0.747, est=0.725, cfg={'max_depth': 10, 'max_features': 20}\n",
            ">acc=0.739, est=0.734, cfg={'max_depth': 10, 'max_features': 20}\n",
            ">acc=0.729, est=0.737, cfg={'max_depth': 10, 'max_features': 20}\n",
            ">acc=0.748, est=0.729, cfg={'max_depth': 10, 'max_features': 20}\n",
            ">acc=0.732, est=0.734, cfg={'max_depth': 10, 'max_features': 20}\n",
            ">acc=0.728, est=0.732, cfg={'max_depth': 10, 'max_features': 20}\n",
            ">acc=0.740, est=0.723, cfg={'max_depth': 10, 'max_features': 20}\n",
            ">acc=0.740, est=0.733, cfg={'max_depth': 10, 'max_features': 20}\n",
            ">acc=0.740, est=0.722, cfg={'max_depth': 10, 'max_features': 20}\n",
            ">acc=0.738, est=0.733, cfg={'max_depth': 10, 'max_features': 20}\n",
            "Accuracy: 0.738 (0.006)\n"
          ]
        }
      ],
      "source": [
        "cv_outer = KFold(n_splits=10, shuffle=True, random_state=1)\n",
        "# enumerate splits\n",
        "outer_results = list()\n",
        "for train_ix, test_ix in cv_outer.split(X):\n",
        "\t# split data\n",
        "\tX_train, X_test = X[train_ix, :], X[test_ix, :]\n",
        "\ty_train, y_test = y[train_ix], y[test_ix]\n",
        "\n",
        "\tcv_inner = KFold(n_splits=3, shuffle=True, random_state=1)\n",
        "\t# define the model\n",
        "\ttree_model_op = DecisionTreeClassifier()\n",
        "\t# define search space\n",
        "\tspace = dict()\n",
        "\tspace['max_depth'] = [1, 5, 10, 15, 20, 50]\n",
        "\tspace['max_features'] = [2, 4, 6, 8 ,10, 20]\n",
        "\n",
        "\tsearch = GridSearchCV(tree_model_op, space, scoring='accuracy', cv=cv_inner, refit=True)\n",
        "\tresult = search.fit(X_train, y_train)\n",
        " \n",
        "\t# get the best performing model fit on the whole training set\n",
        "\tbest_model = result.best_estimator_\n",
        "\t# evaluate model on the hold out dataset\n",
        "\tyhat = best_model.predict(X_test)\n",
        "\t# evaluate the model\n",
        "\tacc = accuracy_score(y_test, yhat)\n",
        "\t# store the result\n",
        "\touter_results.append(acc)\n",
        "\t# report progress\n",
        "\tprint('>acc=%.3f, est=%.3f, cfg=%s' % (acc, result.best_score_, result.best_params_))\n",
        "# summarize the estimated performance of the model\n",
        "print('Accuracy: %.3f (%.3f)' % (mean(outer_results), std(outer_results)))"
      ]
    },
    {
      "cell_type": "code",
      "execution_count": 12,
      "metadata": {
        "colab": {
          "base_uri": "https://localhost:8080/"
        },
        "id": "mBILr7kDM8-T",
        "outputId": "f2e4acf6-ec45-4c69-a88a-466145d01248"
      },
      "outputs": [
        {
          "name": "stdout",
          "output_type": "stream",
          "text": [
            "Accuracy of Decision Tree Model Optimized:  0.737649063032368\n"
          ]
        }
      ],
      "source": [
        "tree_model_op = DecisionTreeClassifier(max_depth=10, max_features=20)\n",
        "tree_model_op.fit(X_train, y_train)\n",
        "tree_model_pred = tree_model_op.predict(X_test)\n",
        "print('Accuracy of Decision Tree Model Optimized: ', accuracy_score(y_test, tree_model_pred))"
      ]
    },
    {
      "cell_type": "code",
      "execution_count": 13,
      "metadata": {
        "colab": {
          "base_uri": "https://localhost:8080/",
          "height": 279
        },
        "id": "Hg_jYGb7M8-T",
        "outputId": "145a983c-2708-43d3-f050-5fc249f33762"
      },
      "outputs": [
        {
          "data": {
            "image/png": "[encoded data removed]",
            "text/plain": [
              "<Figure size 432x288 with 2 Axes>"
            ]
          },
          "metadata": {
            "needs_background": "light"
          },
          "output_type": "display_data"
        }
      ],
      "source": [
        "show_confusion_matrix(tree_model_op, X, y)"
      ]
    },
    {
      "cell_type": "markdown",
      "metadata": {
        "id": "h_A99zegM8-T"
      },
      "source": [
        "### Random Forests"
      ]
    },
    {
      "cell_type": "code",
      "execution_count": null,
      "metadata": {
        "colab": {
          "base_uri": "https://localhost:8080/",
          "height": 415
        },
        "id": "-NRS-SLgM8-T",
        "outputId": "2409bf4d-f653-4d87-8791-45207defefdc"
      },
      "outputs": [],
      "source": [
        "cv_outer = KFold(n_splits=10, shuffle=True, random_state=1)\n",
        "# enumerate splits\n",
        "outer_results = list()\n",
        "for train_ix, test_ix in cv_outer.split(X):\n",
        "\t# split data\n",
        "\tX_train, X_test = X[train_ix, :], X[test_ix, :]\n",
        "\ty_train, y_test = y[train_ix], y[test_ix]\n",
        "\n",
        "\tcv_inner = KFold(n_splits=3, shuffle=True, random_state=1)\n",
        "\t# define the model\n",
        "\trandom_model_op = RandomForestClassifier()\n",
        "\t# define search space\n",
        "\tspace = dict()\n",
        "\tspace['n_estimators'] = [50, 100, 250]\n",
        "\tspace['max_depth'] = [10, 20, 50]\n",
        "\tspace['max_features'] = [6, 10, 20]\n",
        "\n",
        "\tsearch = GridSearchCV(random_model_op, space, scoring='accuracy', cv=cv_inner, refit=True)\n",
        "\tresult = search.fit(X_train, y_train)\n",
        "\tbest_model = result.best_estimator_\n",
        "\tyhat = best_model.predict(X_test)\n",
        " \n",
        "\t# evaluate the model\n",
        "\tacc = accuracy_score(y_test, yhat)\n",
        "\t# store the result\n",
        "\touter_results.append(acc)\n",
        "\t# report progress\n",
        "\tprint('>acc=%.3f, est=%.3f, cfg=%s' % (acc, result.best_score_, result.best_params_))\n",
        "# summarize the estimated performance of the model\n",
        "print('Accuracy: %.3f (%.3f)' % (mean(outer_results), std(outer_results)))"
      ]
    },
    {
      "cell_type": "code",
      "execution_count": null,
      "metadata": {
        "colab": {
          "base_uri": "https://localhost:8080/"
        },
        "id": "Ksko39N1M8-U",
        "outputId": "57aff068-906b-4093-c0d3-b1e55e8b2eb2"
      },
      "outputs": [],
      "source": [
        "random_model_op = RandomForestClassifier(n_estimators=250, max_features=20, max_depth=40)\n",
        "random_model_op.fit(X, y)\n",
        "random_model_pred = random_model_op.predict(X)\n",
        "print('Accuracy of Random Forest Model Optimized: ', accuracy_score(y, random_model_pred))"
      ]
    },
    {
      "cell_type": "code",
      "execution_count": null,
      "metadata": {
        "colab": {
          "base_uri": "https://localhost:8080/",
          "height": 279
        },
        "id": "n_BTfKdAM8-U",
        "outputId": "134c91c4-657f-4bcc-be33-ff943408aafc"
      },
      "outputs": [],
      "source": [
        "show_confusion_matrix(random_model_op, X, y)"
      ]
    },
    {
      "cell_type": "markdown",
      "metadata": {
        "id": "fvIq0gA6hkKF"
      },
      "source": [
        "## Balanced Dataset"
      ]
    },
    {
      "cell_type": "code",
      "execution_count": 14,
      "metadata": {
        "colab": {
          "base_uri": "https://localhost:8080/",
          "height": 381
        },
        "id": "5E-BtvHtht3t",
        "outputId": "74d96ebc-b333-42f7-bcb0-64afea120a9a"
      },
      "outputs": [
        {
          "name": "stdout",
          "output_type": "stream",
          "text": [
            "(11741, 2)\n"
          ]
        },
        {
          "data": {
            "text/html": [
              "<div>\n",
              "<style scoped>\n",
              "    .dataframe tbody tr th:only-of-type {\n",
              "        vertical-align: middle;\n",
              "    }\n",
              "\n",
              "    .dataframe tbody tr th {\n",
              "        vertical-align: top;\n",
              "    }\n",
              "\n",
              "    .dataframe thead th {\n",
              "        text-align: right;\n",
              "    }\n",
              "</style>\n",
              "<table border=\"1\" class=\"dataframe\">\n",
              "  <thead>\n",
              "    <tr style=\"text-align: right;\">\n",
              "      <th></th>\n",
              "      <th>name</th>\n",
              "      <th>sex</th>\n",
              "    </tr>\n",
              "  </thead>\n",
              "  <tbody>\n",
              "    <tr>\n",
              "      <th>0</th>\n",
              "      <td>linton</td>\n",
              "      <td>1</td>\n",
              "    </tr>\n",
              "    <tr>\n",
              "      <th>1</th>\n",
              "      <td>wadsworth</td>\n",
              "      <td>1</td>\n",
              "    </tr>\n",
              "    <tr>\n",
              "      <th>2</th>\n",
              "      <td>oralia</td>\n",
              "      <td>0</td>\n",
              "    </tr>\n",
              "    <tr>\n",
              "      <th>3</th>\n",
              "      <td>adolpho</td>\n",
              "      <td>1</td>\n",
              "    </tr>\n",
              "    <tr>\n",
              "      <th>4</th>\n",
              "      <td>guthry</td>\n",
              "      <td>1</td>\n",
              "    </tr>\n",
              "    <tr>\n",
              "      <th>5</th>\n",
              "      <td>thelma</td>\n",
              "      <td>0</td>\n",
              "    </tr>\n",
              "    <tr>\n",
              "      <th>6</th>\n",
              "      <td>berna</td>\n",
              "      <td>0</td>\n",
              "    </tr>\n",
              "    <tr>\n",
              "      <th>7</th>\n",
              "      <td>delphinia</td>\n",
              "      <td>0</td>\n",
              "    </tr>\n",
              "    <tr>\n",
              "      <th>8</th>\n",
              "      <td>oral</td>\n",
              "      <td>0</td>\n",
              "    </tr>\n",
              "    <tr>\n",
              "      <th>9</th>\n",
              "      <td>kimberely</td>\n",
              "      <td>0</td>\n",
              "    </tr>\n",
              "  </tbody>\n",
              "</table>\n",
              "</div>"
            ],
            "text/plain": [
              "        name  sex\n",
              "0     linton    1\n",
              "1  wadsworth    1\n",
              "2     oralia    0\n",
              "3    adolpho    1\n",
              "4     guthry    1\n",
              "5     thelma    0\n",
              "6      berna    0\n",
              "7  delphinia    0\n",
              "8       oral    0\n",
              "9  kimberely    0"
            ]
          },
          "execution_count": 14,
          "metadata": {},
          "output_type": "execute_result"
        }
      ],
      "source": [
        "names_df = names.sample(frac=1, random_state=42).reset_index(drop=True)\n",
        "print(names_df.shape)\n",
        "names_df.head(10)"
      ]
    },
    {
      "cell_type": "code",
      "execution_count": 15,
      "metadata": {
        "colab": {
          "base_uri": "https://localhost:8080/"
        },
        "id": "aOiKAT7uhhsU",
        "outputId": "9cea26b6-b33d-4097-80fe-18b3599c140a"
      },
      "outputs": [
        {
          "name": "stdout",
          "output_type": "stream",
          "text": [
            "Males count: 4850\n",
            "Females count: 6891\n",
            "Males count: 4850\n",
            "Females count: 4850\n"
          ]
        }
      ],
      "source": [
        "print(\"Males count: \"+str(np.sum(names_df['sex']> 0)))\n",
        "print(\"Females count: \"+str(np.sum(names_df['sex'] < 1)))\n",
        "\n",
        "names_df = names_df.drop(names_df[names_df['sex'] < 1].sample(2041).index)\n",
        "\n",
        "print(\"Males count: \"+str(np.sum(names_df['sex']> 0)))\n",
        "print(\"Females count: \"+str(np.sum(names_df['sex'] < 1)))"
      ]
    },
    {
      "cell_type": "code",
      "execution_count": 16,
      "metadata": {
        "colab": {
          "base_uri": "https://localhost:8080/",
          "height": 245
        },
        "id": "pZTJqfbsiMU-",
        "outputId": "8c068d4d-d546-40b2-e47f-312f6157a834"
      },
      "outputs": [],
      "source": [
        "#fit optimized tree\n",
        "X_balanced = np.asarray(names_df['name'].values.tolist())\n",
        "y_balanced = np.asarray(names_df['sex'].values.tolist())\n",
        "\n",
        "X_balanced = np.array([transform_string(val) for val in X_balanced])\n",
        "\n",
        "X_train_balanced, X_test_balanced, y_train_balanced, y_test_balanced = train_test_split(X_balanced, y_balanced, test_size=0.25, random_state=42)"
      ]
    },
    {
      "cell_type": "code",
      "execution_count": 17,
      "metadata": {
        "colab": {
          "base_uri": "https://localhost:8080/",
          "height": 226
        },
        "id": "m0fkYqLgD1uq",
        "outputId": "3b972455-0d38-40de-c52a-704797214d5a"
      },
      "outputs": [
        {
          "name": "stdout",
          "output_type": "stream",
          "text": [
            "Accuracy of Decision Tree Model Optimized with dataset balanced:  0.7294845360824742\n"
          ]
        }
      ],
      "source": [
        "tree_model_op.fit(X_train_balanced,y_train_balanced)\n",
        "tree_model_pred = tree_model_op.predict(X_test_balanced)\n",
        "print('Accuracy of Decision Tree Model Optimized with dataset balanced: ', accuracy_score(y_test_balanced, tree_model_pred))"
      ]
    },
    {
      "cell_type": "code",
      "execution_count": 18,
      "metadata": {
        "colab": {
          "base_uri": "https://localhost:8080/",
          "height": 279
        },
        "id": "HMbxpx4KjvHm",
        "outputId": "aa79e6de-72eb-4013-ecc5-3a9feb919b47"
      },
      "outputs": [
        {
          "data": {
            "image/png": "[encoded data removed]",
            "text/plain": [
              "<Figure size 432x288 with 2 Axes>"
            ]
          },
          "metadata": {
            "needs_background": "light"
          },
          "output_type": "display_data"
        }
      ],
      "source": [
        "show_confusion_matrix(tree_model_op,X_balanced,y_balanced)"
      ]
    },
    {
      "cell_type": "code",
      "execution_count": null,
      "metadata": {
        "id": "UqdY1j8i_UlJ"
      },
      "outputs": [],
      "source": [
        "random_model_op.fit(X_balanced,y_balanced)\n",
        "random_model_pred = random_model_op.predict(X_balanced)\n",
        "print('Accuracy of Random Forest Model Optimized with dataset balanced: ', accuracy_score(y_balanced, random_model_pred))\n"
      ]
    },
    {
      "cell_type": "code",
      "execution_count": null,
      "metadata": {
        "colab": {
          "base_uri": "https://localhost:8080/",
          "height": 280
        },
        "id": "yooDl1o0j1Xa",
        "outputId": "4879b2ac-0e9b-445e-b1c2-4961e4eb3b0a"
      },
      "outputs": [],
      "source": [
        "show_confusion_matrix(random_model_op,X_balanced,y_balanced)"
      ]
    }
  ],
  "metadata": {
    "colab": {
      "collapsed_sections": [],
      "name": "names_trees.ipynb",
      "provenance": []
    },
    "kernelspec": {
      "display_name": "Python 3.9.12 ('base')",
      "language": "python",
      "name": "python3"
    },
    "language_info": {
      "codemirror_mode": {
        "name": "ipython",
        "version": 3
      },
      "file_extension": ".py",
      "mimetype": "text/x-python",
      "name": "python",
      "nbconvert_exporter": "python",
      "pygments_lexer": "ipython3",
      "version": "3.9.12"
    },
    "orig_nbformat": 4,
    "vscode": {
      "interpreter": {
        "hash": "9aed451c744d1ebe20ab8a3ebb67baaa0895c2d5e19779b491b1cbd4628d0352"
      }
    }
  },
  "nbformat": 4,
  "nbformat_minor": 0
}
